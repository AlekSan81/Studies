{
 "cells": [
  {
   "cell_type": "markdown",
   "id": "83abacb5",
   "metadata": {
    "toc": true
   },
   "source": [
    "<h1>Table of Contents<span class=\"tocSkip\"></span></h1>\n",
    "<div class=\"toc\"><ul class=\"toc-item\"><li><span><a href=\"#Combinatorics\" data-toc-modified-id=\"Combinatorics-1\"><span class=\"toc-item-num\">1&nbsp;&nbsp;</span>Combinatorics</a></span><ul class=\"toc-item\"><li><span><a href=\"#Перестановки,-сочетания-и-размещения-без-повторений\" data-toc-modified-id=\"Перестановки,-сочетания-и-размещения-без-повторений-1.1\"><span class=\"toc-item-num\">1.1&nbsp;&nbsp;</span>Перестановки, сочетания и размещения без повторений</a></span></li><li><span><a href=\"#Перестановки,-сочетания-и-размещения-с-повторениями\" data-toc-modified-id=\"Перестановки,-сочетания-и-размещения-с-повторениями-1.2\"><span class=\"toc-item-num\">1.2&nbsp;&nbsp;</span>Перестановки, сочетания и размещения с повторениями</a></span></li></ul></li></ul></div>"
   ]
  },
  {
   "cell_type": "markdown",
   "id": "b7b277e7",
   "metadata": {},
   "source": [
    "# Combinatorics\n",
    "http://mathprofi.ru/zadachi_po_kombinatorike_primery_reshenij.html  \n",
    "http://mathprofi.ru/formuly_kombinatoriki.pdf  \n",
    "https://habr.com/ru/post/479816/  "
   ]
  },
  {
   "cell_type": "code",
   "execution_count": 2,
   "id": "7efe50cf",
   "metadata": {},
   "outputs": [],
   "source": [
    "from itertools import *"
   ]
  },
  {
   "cell_type": "markdown",
   "id": "23d16ad9",
   "metadata": {},
   "source": [
    "## Перестановки, сочетания и размещения без повторений"
   ]
  },
  {
   "cell_type": "markdown",
   "id": "a74c5440",
   "metadata": {},
   "source": [
    "**Формула количества перестановок (permutations)**: $P_n = n!$  \n",
    "***Типичная смысловая нагрузка***: *«Сколькими способами можно переставить n объектов?»*"
   ]
  },
  {
   "cell_type": "code",
   "execution_count": 50,
   "id": "37a7c59d",
   "metadata": {},
   "outputs": [
    {
     "name": "stdout",
     "output_type": "stream",
     "text": [
      "6 permutation options.\n",
      "('a', 'b', 'c')\n",
      "('a', 'c', 'b')\n",
      "('b', 'a', 'c')\n",
      "('b', 'c', 'a')\n",
      "('c', 'a', 'b')\n",
      "('c', 'b', 'a')\n"
     ]
    }
   ],
   "source": [
    "perm_list = []\n",
    "\n",
    "for i in permutations('abc'):\n",
    "    perm_list.append(i)\n",
    "    \n",
    "print(f'{len(perm_list)} permutation options.')\n",
    "\n",
    "for i in perm_list:\n",
    "    print(i)"
   ]
  },
  {
   "cell_type": "markdown",
   "id": "466afee7",
   "metadata": {},
   "source": [
    "**Формула количества сочетаний (combinations)**: $С_n^m=\\frac{n!}{(n-m)! * m!}$  \n",
    "***Типичная смысловая нагрузка***: *«Сколькими способами можно выбрать m объектов из n ?».*  \n",
    "Поскольку выборка проводится из множества, состоящего из n объектов, то справедливо неравенство $0 <= m <= n$"
   ]
  },
  {
   "cell_type": "code",
   "execution_count": 53,
   "id": "e59defd9",
   "metadata": {},
   "outputs": [
    {
     "name": "stdout",
     "output_type": "stream",
     "text": [
      "3 combinations.\n",
      "('a', 'b')\n",
      "('a', 'c')\n",
      "('b', 'c')\n"
     ]
    }
   ],
   "source": [
    "comb_list = []\n",
    "\n",
    "for i in combinations('abc', 2):\n",
    "    comb_list.append(i)\n",
    "    #print(i, end=' ')\n",
    "    \n",
    "print(f'{len(comb_list)} combinations.')\n",
    "\n",
    "for i in comb_list:\n",
    "    print(i)"
   ]
  },
  {
   "cell_type": "markdown",
   "id": "14aa9d93",
   "metadata": {},
   "source": [
    "**Формула количества размещений**: $A_n^m=(n-m+1)*...*(n-1)n$  \n",
    "***Типичная смысловая нагрузка***: *«сколькими способами можно выбрать m объектов (из n объектов) и в каждой выборке переставить их местами (либо распределить между ними какие-нибудь уникальные атрибуты)».*  \n",
    "Исходя из вышесказанного, справедлива следующая формула:  \n",
    "$C_n^m * P_m=A_n^m$  \n",
    "И в самом деле:\n",
    "$C_n^m * P_m = \\frac{n!}{(n-m)! * m!} * m! = \\frac{n!}{(n-m)!} = \\frac{1*2*3*...*(n-m)(n-m+1)*...*(n-1)n}{1*2*3*...*(n-m)}$"
   ]
  },
  {
   "cell_type": "code",
   "execution_count": null,
   "id": "93b66c05",
   "metadata": {},
   "outputs": [],
   "source": []
  },
  {
   "cell_type": "markdown",
   "id": "57db4a26",
   "metadata": {},
   "source": [
    "## Перестановки, сочетания и размещения с повторениями"
   ]
  },
  {
   "cell_type": "markdown",
   "id": "8022f57d",
   "metadata": {},
   "source": [
    "**Формула количества сочетаний с повторениями**: $C^m_n(повт) = \\frac{(n + m - 1)!}{(n - 1)! * m!}$  \n",
    "***Типичная смысловая нагрузка***: *«Для выбора предложено n множеств, каждое из которых состоит из одинаковых объектов. Сколькими  cпособами можно выбрать m объектов?»*.  \n",
    "То есть, здесь в выборке могут оказаться одинаковые объекты, и если $m > n$, то совпадения точно будут. По умолчанию предполагается, что исходная совокупность содержит не менее m объектов каждого вида, и поэтому выборка может полностью состоять из одинаковых объектов."
   ]
  },
  {
   "cell_type": "code",
   "execution_count": 55,
   "id": "1048699f",
   "metadata": {},
   "outputs": [
    {
     "name": "stdout",
     "output_type": "stream",
     "text": [
      "10 combinations with replacement.\n",
      "('1', '1', '1')\n",
      "('1', '1', '2')\n",
      "('1', '1', '3')\n",
      "('1', '2', '2')\n",
      "('1', '2', '3')\n",
      "('1', '3', '3')\n",
      "('2', '2', '2')\n",
      "('2', '2', '3')\n",
      "('2', '3', '3')\n",
      "('3', '3', '3')\n"
     ]
    }
   ],
   "source": [
    "comb_rep_list = []\n",
    "\n",
    "for i in combinations_with_replacement('123', 3):\n",
    "    comb_rep_list.append(i)\n",
    "    \n",
    "print(f'{len(comb_rep_list)} combinations with replacement.')\n",
    "\n",
    "for i in comb_rep_list:\n",
    "    print(i)"
   ]
  },
  {
   "cell_type": "markdown",
   "id": "82f15c6d",
   "metadata": {},
   "source": [
    "**Формула количества размещений с повторениями**: $A^m_n(повт) = n^m$  \n",
    "***Типичная смысловая нагрузка***: *«Дано множество, состоящее из n **разнообразных** объектов, при этом любой объект можно выбирать неоднократно. Сколькими способами можно выбрать m объектов, если важен порядок их расположения в выборке?».*  \n",
    "Для бОльшей ясности здесь удобно представить, что объекты извлекаются последовательно (хотя это вовсе не обязательное условие). В частности, возможен случай, когда из n имеющихся объектов m раз будет выбран какой-то один объект."
   ]
  },
  {
   "cell_type": "code",
   "execution_count": 56,
   "id": "a939e7e5",
   "metadata": {},
   "outputs": [
    {
     "name": "stdout",
     "output_type": "stream",
     "text": [
      "27 product options.\n",
      "('1', '1', '1')\n",
      "('1', '1', '2')\n",
      "('1', '1', '3')\n",
      "('1', '2', '1')\n",
      "('1', '2', '2')\n",
      "('1', '2', '3')\n",
      "('1', '3', '1')\n",
      "('1', '3', '2')\n",
      "('1', '3', '3')\n",
      "('2', '1', '1')\n",
      "('2', '1', '2')\n",
      "('2', '1', '3')\n",
      "('2', '2', '1')\n",
      "('2', '2', '2')\n",
      "('2', '2', '3')\n",
      "('2', '3', '1')\n",
      "('2', '3', '2')\n",
      "('2', '3', '3')\n",
      "('3', '1', '1')\n",
      "('3', '1', '2')\n",
      "('3', '1', '3')\n",
      "('3', '2', '1')\n",
      "('3', '2', '2')\n",
      "('3', '2', '3')\n",
      "('3', '3', '1')\n",
      "('3', '3', '2')\n",
      "('3', '3', '3')\n"
     ]
    }
   ],
   "source": [
    "product_list = []\n",
    "\n",
    "for i in product('123', repeat=3):\n",
    "    product_list.append(i)\n",
    "\n",
    "print(f'{len(product_list)} product options.')\n",
    "\n",
    "for i in product_list:\n",
    "    print(i)"
   ]
  }
 ],
 "metadata": {
  "kernelspec": {
   "display_name": "Python 3 (ipykernel)",
   "language": "python",
   "name": "python3"
  },
  "language_info": {
   "codemirror_mode": {
    "name": "ipython",
    "version": 3
   },
   "file_extension": ".py",
   "mimetype": "text/x-python",
   "name": "python",
   "nbconvert_exporter": "python",
   "pygments_lexer": "ipython3",
   "version": "3.7.1"
  },
  "toc": {
   "base_numbering": 1,
   "nav_menu": {},
   "number_sections": true,
   "sideBar": true,
   "skip_h1_title": false,
   "title_cell": "Table of Contents",
   "title_sidebar": "Contents",
   "toc_cell": true,
   "toc_position": {},
   "toc_section_display": true,
   "toc_window_display": true
  },
  "varInspector": {
   "cols": {
    "lenName": 16,
    "lenType": 16,
    "lenVar": 40
   },
   "kernels_config": {
    "python": {
     "delete_cmd_postfix": "",
     "delete_cmd_prefix": "del ",
     "library": "var_list.py",
     "varRefreshCmd": "print(var_dic_list())"
    },
    "r": {
     "delete_cmd_postfix": ") ",
     "delete_cmd_prefix": "rm(",
     "library": "var_list.r",
     "varRefreshCmd": "cat(var_dic_list()) "
    }
   },
   "types_to_exclude": [
    "module",
    "function",
    "builtin_function_or_method",
    "instance",
    "_Feature"
   ],
   "window_display": false
  }
 },
 "nbformat": 4,
 "nbformat_minor": 5
}
