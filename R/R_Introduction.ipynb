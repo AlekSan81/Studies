{
 "cells": [
  {
   "cell_type": "markdown",
   "id": "d8b3e404",
   "metadata": {
    "toc": true
   },
   "source": [
    "<h1>Table of Contents<span class=\"tocSkip\"></span></h1>\n",
    "<div class=\"toc\"><ul class=\"toc-item\"><li><span><a href=\"#Module-1:-Base-Structers\" data-toc-modified-id=\"Module-1:-Base-Structers-1\"><span class=\"toc-item-num\">1&nbsp;&nbsp;</span>Module 1: Base Structers</a></span><ul class=\"toc-item\"><li><span><a href=\"#Variables,-global-environment\" data-toc-modified-id=\"Variables,-global-environment-1.1\"><span class=\"toc-item-num\">1.1&nbsp;&nbsp;</span>Variables, global environment</a></span><ul class=\"toc-item\"><li><span><a href=\"#Functions\" data-toc-modified-id=\"Functions-1.1.1\"><span class=\"toc-item-num\">1.1.1&nbsp;&nbsp;</span>Functions</a></span><ul class=\"toc-item\"><li><span><a href=\"#Internal-functions\" data-toc-modified-id=\"Internal-functions-1.1.1.1\"><span class=\"toc-item-num\">1.1.1.1&nbsp;&nbsp;</span>Internal functions</a></span></li><li><span><a href=\"#External-functions\" data-toc-modified-id=\"External-functions-1.1.1.2\"><span class=\"toc-item-num\">1.1.1.2&nbsp;&nbsp;</span>External functions</a></span></li></ul></li><li><span><a href=\"#Removing-variables-from-the-global-environment\" data-toc-modified-id=\"Removing-variables-from-the-global-environment-1.1.2\"><span class=\"toc-item-num\">1.1.2&nbsp;&nbsp;</span>Removing variables from the global environment</a></span></li><li><span><a href=\"#Test-assignment\" data-toc-modified-id=\"Test-assignment-1.1.3\"><span class=\"toc-item-num\">1.1.3&nbsp;&nbsp;</span>Test assignment</a></span></li></ul></li><li><span><a href=\"#Vectors\" data-toc-modified-id=\"Vectors-1.2\"><span class=\"toc-item-num\">1.2&nbsp;&nbsp;</span>Vectors</a></span><ul class=\"toc-item\"><li><span><a href=\"#Task-1\" data-toc-modified-id=\"Task-1-1.2.1\"><span class=\"toc-item-num\">1.2.1&nbsp;&nbsp;</span>Task 1</a></span></li><li><span><a href=\"#Types-of-vectors\" data-toc-modified-id=\"Types-of-vectors-1.2.2\"><span class=\"toc-item-num\">1.2.2&nbsp;&nbsp;</span>Types of vectors</a></span></li><li><span><a href=\"#Vector's-arithmetic\" data-toc-modified-id=\"Vector's-arithmetic-1.2.3\"><span class=\"toc-item-num\">1.2.3&nbsp;&nbsp;</span>Vector's arithmetic</a></span></li><li><span><a href=\"#Vectorization\" data-toc-modified-id=\"Vectorization-1.2.4\"><span class=\"toc-item-num\">1.2.4&nbsp;&nbsp;</span>Vectorization</a></span></li></ul></li><li><span><a href=\"#Control-constructs,-working-with-packages\" data-toc-modified-id=\"Control-constructs,-working-with-packages-1.3\"><span class=\"toc-item-num\">1.3&nbsp;&nbsp;</span>Control constructs, working with packages</a></span></li></ul></li></ul></div>"
   ]
  },
  {
   "cell_type": "markdown",
   "id": "44690576-35fd-41ac-8c2c-2c5be267a7ac",
   "metadata": {},
   "source": [
    "# Module 1: Base Structers"
   ]
  },
  {
   "cell_type": "markdown",
   "id": "62a9a630",
   "metadata": {},
   "source": [
    "## Variables, global environment"
   ]
  },
  {
   "cell_type": "code",
   "execution_count": 1,
   "id": "583577c2",
   "metadata": {},
   "outputs": [],
   "source": [
    "cats <- 5\n",
    "dogs <- 2\n",
    "pets <- cats + dogs"
   ]
  },
  {
   "cell_type": "code",
   "execution_count": 2,
   "id": "72afbcf0",
   "metadata": {},
   "outputs": [
    {
     "data": {
      "text/html": [
       "7"
      ],
      "text/latex": [
       "7"
      ],
      "text/markdown": [
       "7"
      ],
      "text/plain": [
       "[1] 7"
      ]
     },
     "metadata": {},
     "output_type": "display_data"
    }
   ],
   "source": [
    "pets"
   ]
  },
  {
   "cell_type": "code",
   "execution_count": 3,
   "id": "f2f873f4",
   "metadata": {},
   "outputs": [
    {
     "data": {
      "text/html": [
       "<ol class=list-inline>\n",
       "\t<li>'cats'</li>\n",
       "\t<li>'dogs'</li>\n",
       "\t<li>'pets'</li>\n",
       "</ol>\n"
      ],
      "text/latex": [
       "\\begin{enumerate*}\n",
       "\\item 'cats'\n",
       "\\item 'dogs'\n",
       "\\item 'pets'\n",
       "\\end{enumerate*}\n"
      ],
      "text/markdown": [
       "1. 'cats'\n",
       "2. 'dogs'\n",
       "3. 'pets'\n",
       "\n",
       "\n"
      ],
      "text/plain": [
       "[1] \"cats\" \"dogs\" \"pets\""
      ]
     },
     "metadata": {},
     "output_type": "display_data"
    }
   ],
   "source": [
    "ls()"
   ]
  },
  {
   "cell_type": "markdown",
   "id": "6bf833b7-a850-4d3f-9b84-4e8bc50523a0",
   "metadata": {},
   "source": [
    "### Functions"
   ]
  },
  {
   "cell_type": "markdown",
   "id": "28b8193c-6074-47e7-bd57-6d3a0e070c22",
   "metadata": {},
   "source": [
    "#### Internal functions"
   ]
  },
  {
   "cell_type": "code",
   "execution_count": 4,
   "id": "3adf7370-fa0e-4f41-b2aa-d9c45925a850",
   "metadata": {},
   "outputs": [
    {
     "data": {
      "text/html": [
       "<ol class=list-inline>\n",
       "\t<li>-0.0605215673754469</li>\n",
       "\t<li>0.466204783740841</li>\n",
       "\t<li>0.307368409479664</li>\n",
       "\t<li>0.785795103869594</li>\n",
       "\t<li>0.0163052179073425</li>\n",
       "\t<li>-0.702732266482737</li>\n",
       "\t<li>0.35527329336439</li>\n",
       "\t<li>1.32498528968072</li>\n",
       "\t<li>-0.753980086399268</li>\n",
       "\t<li>-1.25265908125384</li>\n",
       "\t<li>1.46182720696352</li>\n",
       "\t<li>-0.556160674222176</li>\n",
       "\t<li>0.946409949350546</li>\n",
       "\t<li>0.726440597515501</li>\n",
       "\t<li>-0.0968436809766932</li>\n",
       "</ol>\n"
      ],
      "text/latex": [
       "\\begin{enumerate*}\n",
       "\\item -0.0605215673754469\n",
       "\\item 0.466204783740841\n",
       "\\item 0.307368409479664\n",
       "\\item 0.785795103869594\n",
       "\\item 0.0163052179073425\n",
       "\\item -0.702732266482737\n",
       "\\item 0.35527329336439\n",
       "\\item 1.32498528968072\n",
       "\\item -0.753980086399268\n",
       "\\item -1.25265908125384\n",
       "\\item 1.46182720696352\n",
       "\\item -0.556160674222176\n",
       "\\item 0.946409949350546\n",
       "\\item 0.726440597515501\n",
       "\\item -0.0968436809766932\n",
       "\\end{enumerate*}\n"
      ],
      "text/markdown": [
       "1. -0.0605215673754469\n",
       "2. 0.466204783740841\n",
       "3. 0.307368409479664\n",
       "4. 0.785795103869594\n",
       "5. 0.0163052179073425\n",
       "6. -0.702732266482737\n",
       "7. 0.35527329336439\n",
       "8. 1.32498528968072\n",
       "9. -0.753980086399268\n",
       "10. -1.25265908125384\n",
       "11. 1.46182720696352\n",
       "12. -0.556160674222176\n",
       "13. 0.946409949350546\n",
       "14. 0.726440597515501\n",
       "15. -0.0968436809766932\n",
       "\n",
       "\n"
      ],
      "text/plain": [
       " [1] -0.06052157  0.46620478  0.30736841  0.78579510  0.01630522 -0.70273227\n",
       " [7]  0.35527329  1.32498529 -0.75398009 -1.25265908  1.46182721 -0.55616067\n",
       "[13]  0.94640995  0.72644060 -0.09684368"
      ]
     },
     "metadata": {},
     "output_type": "display_data"
    }
   ],
   "source": [
    "rnorm(15)"
   ]
  },
  {
   "cell_type": "code",
   "execution_count": 5,
   "id": "bd791aee-57de-4e36-9c66-a4257a667305",
   "metadata": {},
   "outputs": [
    {
     "data": {
      "text/html": [
       "<ol class=list-inline>\n",
       "\t<li>3.23817218076084</li>\n",
       "\t<li>2.79212723568947</li>\n",
       "\t<li>1.93265837823273</li>\n",
       "\t<li>-0.00841651992504389</li>\n",
       "\t<li>5.79131722634775</li>\n",
       "\t<li>2.09997193015562</li>\n",
       "\t<li>3.01963883921107</li>\n",
       "\t<li>7.81001601478573</li>\n",
       "\t<li>6.57074301238378</li>\n",
       "\t<li>6.92419379803363</li>\n",
       "\t<li>-0.892222930996303</li>\n",
       "\t<li>2.97815482212289</li>\n",
       "\t<li>5.56383879901681</li>\n",
       "\t<li>4.51073681963235</li>\n",
       "\t<li>-3.16321927733736</li>\n",
       "</ol>\n"
      ],
      "text/latex": [
       "\\begin{enumerate*}\n",
       "\\item 3.23817218076084\n",
       "\\item 2.79212723568947\n",
       "\\item 1.93265837823273\n",
       "\\item -0.00841651992504389\n",
       "\\item 5.79131722634775\n",
       "\\item 2.09997193015562\n",
       "\\item 3.01963883921107\n",
       "\\item 7.81001601478573\n",
       "\\item 6.57074301238378\n",
       "\\item 6.92419379803363\n",
       "\\item -0.892222930996303\n",
       "\\item 2.97815482212289\n",
       "\\item 5.56383879901681\n",
       "\\item 4.51073681963235\n",
       "\\item -3.16321927733736\n",
       "\\end{enumerate*}\n"
      ],
      "text/markdown": [
       "1. 3.23817218076084\n",
       "2. 2.79212723568947\n",
       "3. 1.93265837823273\n",
       "4. -0.00841651992504389\n",
       "5. 5.79131722634775\n",
       "6. 2.09997193015562\n",
       "7. 3.01963883921107\n",
       "8. 7.81001601478573\n",
       "9. 6.57074301238378\n",
       "10. 6.92419379803363\n",
       "11. -0.892222930996303\n",
       "12. 2.97815482212289\n",
       "13. 5.56383879901681\n",
       "14. 4.51073681963235\n",
       "15. -3.16321927733736\n",
       "\n",
       "\n"
      ],
      "text/plain": [
       " [1]  3.23817218  2.79212724  1.93265838 -0.00841652  5.79131723  2.09997193\n",
       " [7]  3.01963884  7.81001601  6.57074301  6.92419380 -0.89222293  2.97815482\n",
       "[13]  5.56383880  4.51073682 -3.16321928"
      ]
     },
     "metadata": {},
     "output_type": "display_data"
    }
   ],
   "source": [
    "rnorm(15, mean=5, sd=3)"
   ]
  },
  {
   "cell_type": "markdown",
   "id": "9da6b552-bf12-40d5-9964-a4ce447c2d8d",
   "metadata": {},
   "source": [
    "#### External functions"
   ]
  },
  {
   "cell_type": "code",
   "execution_count": 6,
   "id": "93110176-6416-4368-a06b-9fc82e0813c9",
   "metadata": {},
   "outputs": [
    {
     "data": {
      "text/html": [
       "2"
      ],
      "text/latex": [
       "2"
      ],
      "text/markdown": [
       "2"
      ],
      "text/plain": [
       "[1] 2"
      ]
     },
     "metadata": {},
     "output_type": "display_data"
    }
   ],
   "source": [
    "returntwo <- function() {\n",
    "    y <- 2\n",
    "    return(y)\n",
    "}\n",
    "\n",
    "returntwo()"
   ]
  },
  {
   "cell_type": "code",
   "execution_count": 7,
   "id": "5ff06131-2c66-42eb-b489-f9a82af14b21",
   "metadata": {},
   "outputs": [],
   "source": [
    "addten <- function(x) {\n",
    "    x <- x + 10\n",
    "    return(x)\n",
    "}"
   ]
  },
  {
   "cell_type": "code",
   "execution_count": 8,
   "id": "b0791e2a-334d-478e-b769-e4aa187dfec7",
   "metadata": {},
   "outputs": [
    {
     "data": {
      "text/html": [
       "5"
      ],
      "text/latex": [
       "5"
      ],
      "text/markdown": [
       "5"
      ],
      "text/plain": [
       "[1] 5"
      ]
     },
     "metadata": {},
     "output_type": "display_data"
    },
    {
     "data": {
      "text/html": [
       "15"
      ],
      "text/latex": [
       "15"
      ],
      "text/markdown": [
       "15"
      ],
      "text/plain": [
       "[1] 15"
      ]
     },
     "metadata": {},
     "output_type": "display_data"
    }
   ],
   "source": [
    "morecats <- addten(cats)\n",
    "cats\n",
    "morecats"
   ]
  },
  {
   "cell_type": "code",
   "execution_count": 9,
   "id": "e796ef51-2184-4505-8c4e-6079a791f0ba",
   "metadata": {},
   "outputs": [
    {
     "data": {
      "text/html": [
       "2"
      ],
      "text/latex": [
       "2"
      ],
      "text/markdown": [
       "2"
      ],
      "text/plain": [
       "[1] 2"
      ]
     },
     "metadata": {},
     "output_type": "display_data"
    }
   ],
   "source": [
    "addtwenty <- function(x) {\n",
    "    moredogs <<- x + 20\n",
    "}\n",
    "\n",
    "addtwenty(dogs)\n",
    "dogs"
   ]
  },
  {
   "cell_type": "code",
   "execution_count": 10,
   "id": "ae4846c2-7052-43c8-8e46-0cfaa6aeaece",
   "metadata": {},
   "outputs": [
    {
     "data": {
      "text/html": [
       "22"
      ],
      "text/latex": [
       "22"
      ],
      "text/markdown": [
       "22"
      ],
      "text/plain": [
       "[1] 22"
      ]
     },
     "metadata": {},
     "output_type": "display_data"
    }
   ],
   "source": [
    "moredogs"
   ]
  },
  {
   "cell_type": "markdown",
   "id": "b0036fd0-9ec7-4c03-980a-f957e0df4975",
   "metadata": {
    "tags": []
   },
   "source": [
    "### Removing variables from the global environment"
   ]
  },
  {
   "cell_type": "code",
   "execution_count": 11,
   "id": "d2f1c6b8-2aca-492b-8e7e-215577cc43c0",
   "metadata": {},
   "outputs": [
    {
     "data": {
      "text/html": [
       "<ol class=list-inline>\n",
       "\t<li>'addten'</li>\n",
       "\t<li>'addtwenty'</li>\n",
       "\t<li>'cats'</li>\n",
       "\t<li>'dogs'</li>\n",
       "\t<li>'morecats'</li>\n",
       "\t<li>'moredogs'</li>\n",
       "\t<li>'pets'</li>\n",
       "\t<li>'returntwo'</li>\n",
       "</ol>\n"
      ],
      "text/latex": [
       "\\begin{enumerate*}\n",
       "\\item 'addten'\n",
       "\\item 'addtwenty'\n",
       "\\item 'cats'\n",
       "\\item 'dogs'\n",
       "\\item 'morecats'\n",
       "\\item 'moredogs'\n",
       "\\item 'pets'\n",
       "\\item 'returntwo'\n",
       "\\end{enumerate*}\n"
      ],
      "text/markdown": [
       "1. 'addten'\n",
       "2. 'addtwenty'\n",
       "3. 'cats'\n",
       "4. 'dogs'\n",
       "5. 'morecats'\n",
       "6. 'moredogs'\n",
       "7. 'pets'\n",
       "8. 'returntwo'\n",
       "\n",
       "\n"
      ],
      "text/plain": [
       "[1] \"addten\"    \"addtwenty\" \"cats\"      \"dogs\"      \"morecats\"  \"moredogs\" \n",
       "[7] \"pets\"      \"returntwo\""
      ]
     },
     "metadata": {},
     "output_type": "display_data"
    }
   ],
   "source": [
    "ls()"
   ]
  },
  {
   "cell_type": "code",
   "execution_count": 12,
   "id": "2e989370-9ed0-4eaa-84d0-b8ef2b6a76bc",
   "metadata": {},
   "outputs": [
    {
     "name": "stderr",
     "output_type": "stream",
     "text": [
      "Warning message in rm(var_dic_list):\n",
      "\"объект 'var_dic_list' не найден\""
     ]
    },
    {
     "data": {
      "text/html": [
       "<ol class=list-inline>\n",
       "\t<li>'addten'</li>\n",
       "\t<li>'addtwenty'</li>\n",
       "\t<li>'cats'</li>\n",
       "\t<li>'dogs'</li>\n",
       "\t<li>'morecats'</li>\n",
       "\t<li>'pets'</li>\n",
       "\t<li>'returntwo'</li>\n",
       "</ol>\n"
      ],
      "text/latex": [
       "\\begin{enumerate*}\n",
       "\\item 'addten'\n",
       "\\item 'addtwenty'\n",
       "\\item 'cats'\n",
       "\\item 'dogs'\n",
       "\\item 'morecats'\n",
       "\\item 'pets'\n",
       "\\item 'returntwo'\n",
       "\\end{enumerate*}\n"
      ],
      "text/markdown": [
       "1. 'addten'\n",
       "2. 'addtwenty'\n",
       "3. 'cats'\n",
       "4. 'dogs'\n",
       "5. 'morecats'\n",
       "6. 'pets'\n",
       "7. 'returntwo'\n",
       "\n",
       "\n"
      ],
      "text/plain": [
       "[1] \"addten\"    \"addtwenty\" \"cats\"      \"dogs\"      \"morecats\"  \"pets\"     \n",
       "[7] \"returntwo\""
      ]
     },
     "metadata": {},
     "output_type": "display_data"
    }
   ],
   "source": [
    "rm(var_dic_list)\n",
    "rm(moredogs)\n",
    "ls()"
   ]
  },
  {
   "cell_type": "code",
   "execution_count": 13,
   "id": "73e875db-9dd1-4eaa-8a24-d4649ad05d12",
   "metadata": {},
   "outputs": [
    {
     "data": {
      "text/html": [],
      "text/latex": [],
      "text/markdown": [],
      "text/plain": [
       "character(0)"
      ]
     },
     "metadata": {},
     "output_type": "display_data"
    }
   ],
   "source": [
    "# removing all variables\n",
    "rm(list=ls())\n",
    "ls()"
   ]
  },
  {
   "cell_type": "markdown",
   "id": "bd0f463a-ac32-4491-9ace-91e7437ffe65",
   "metadata": {
    "tags": []
   },
   "source": [
    "### Test assignment\n",
    "R может послужить хорошей заменой вашему настольному калькулятору.  \n",
    "Например, посчитайте, чему равно значение  \n",
    "двоичного логарифма от квадрата синуса арктангенса единицы.  \n",
    "Подсказки:  \n",
    "Возведение в степень — оператор ^.\n",
    "Ответ — целое число. "
   ]
  },
  {
   "cell_type": "code",
   "execution_count": 14,
   "id": "e2f92972-947e-4225-89cb-74978ea165f1",
   "metadata": {},
   "outputs": [
    {
     "data": {
      "text/html": [
       "-1"
      ],
      "text/latex": [
       "-1"
      ],
      "text/markdown": [
       "-1"
      ],
      "text/plain": [
       "[1] -1"
      ]
     },
     "metadata": {},
     "output_type": "display_data"
    }
   ],
   "source": [
    "log2(sin(atan(1))**2)"
   ]
  },
  {
   "cell_type": "markdown",
   "id": "ed131e6b-7445-4371-846c-2134868ef004",
   "metadata": {},
   "source": [
    "Напишите функцию, которая принимает на вход два числа и возвращает результат деления первого на второе."
   ]
  },
  {
   "cell_type": "code",
   "execution_count": 15,
   "id": "329f040b-9088-443f-b1a0-a7014c311f78",
   "metadata": {},
   "outputs": [],
   "source": [
    "divide <- function(x, y) {\n",
    "    return(x / y)\n",
    "}"
   ]
  },
  {
   "cell_type": "code",
   "execution_count": 16,
   "id": "1b545f86-dee5-4d8b-a196-6d516ad2bf37",
   "metadata": {},
   "outputs": [
    {
     "data": {
      "text/html": [
       "Inf"
      ],
      "text/latex": [
       "Inf"
      ],
      "text/markdown": [
       "Inf"
      ],
      "text/plain": [
       "[1] Inf"
      ]
     },
     "metadata": {},
     "output_type": "display_data"
    },
    {
     "data": {
      "text/html": [
       "-Inf"
      ],
      "text/latex": [
       "-Inf"
      ],
      "text/markdown": [
       "-Inf"
      ],
      "text/plain": [
       "[1] -Inf"
      ]
     },
     "metadata": {},
     "output_type": "display_data"
    },
    {
     "data": {
      "text/html": [
       "NaN"
      ],
      "text/latex": [
       "NaN"
      ],
      "text/markdown": [
       "NaN"
      ],
      "text/plain": [
       "[1] NaN"
      ]
     },
     "metadata": {},
     "output_type": "display_data"
    },
    {
     "data": {
      "text/html": [
       "NaN"
      ],
      "text/latex": [
       "NaN"
      ],
      "text/markdown": [
       "NaN"
      ],
      "text/plain": [
       "[1] NaN"
      ]
     },
     "metadata": {},
     "output_type": "display_data"
    }
   ],
   "source": [
    "divide(1, 0)\n",
    "divide(-99999, 0)\n",
    "divide(0, 0)\n",
    "divide(Inf, Inf)"
   ]
  },
  {
   "cell_type": "markdown",
   "id": "4bb97641-b3e3-47ee-a9ac-bc940f36ee00",
   "metadata": {},
   "source": [
    "## Vectors"
   ]
  },
  {
   "cell_type": "code",
   "execution_count": 17,
   "id": "63a14871-ec4b-49ab-b70b-224cadb0f2f9",
   "metadata": {},
   "outputs": [
    {
     "data": {
      "text/html": [
       "<ol class=list-inline>\n",
       "\t<li>5</li>\n",
       "\t<li>8</li>\n",
       "</ol>\n"
      ],
      "text/latex": [
       "\\begin{enumerate*}\n",
       "\\item 5\n",
       "\\item 8\n",
       "\\end{enumerate*}\n"
      ],
      "text/markdown": [
       "1. 5\n",
       "2. 8\n",
       "\n",
       "\n"
      ],
      "text/plain": [
       "[1] 5 8"
      ]
     },
     "metadata": {},
     "output_type": "display_data"
    }
   ],
   "source": [
    "x <- vector(length=2)\n",
    "x[1] <- 5\n",
    "x[2] <- 8\n",
    "x"
   ]
  },
  {
   "cell_type": "code",
   "execution_count": 18,
   "id": "178c5e66-190a-4c1e-9192-6cbdf6be3305",
   "metadata": {},
   "outputs": [
    {
     "data": {
      "text/html": [
       "<ol class=list-inline>\n",
       "\t<li>5</li>\n",
       "\t<li>8</li>\n",
       "</ol>\n"
      ],
      "text/latex": [
       "\\begin{enumerate*}\n",
       "\\item 5\n",
       "\\item 8\n",
       "\\end{enumerate*}\n"
      ],
      "text/markdown": [
       "1. 5\n",
       "2. 8\n",
       "\n",
       "\n"
      ],
      "text/plain": [
       "[1] 5 8"
      ]
     },
     "metadata": {},
     "output_type": "display_data"
    }
   ],
   "source": [
    "x <- c(5, 8)\n",
    "x"
   ]
  },
  {
   "cell_type": "code",
   "execution_count": 19,
   "id": "1e96b2c3-0a20-406b-a69f-75ad83fc2f52",
   "metadata": {},
   "outputs": [
    {
     "data": {
      "text/html": [
       "<ol class=list-inline>\n",
       "\t<li>5</li>\n",
       "\t<li>8</li>\n",
       "\t<li>1</li>\n",
       "\t<li>3</li>\n",
       "\t<li>4</li>\n",
       "\t<li>5</li>\n",
       "\t<li>8</li>\n",
       "\t<li>&lt;NA&gt;</li>\n",
       "</ol>\n"
      ],
      "text/latex": [
       "\\begin{enumerate*}\n",
       "\\item 5\n",
       "\\item 8\n",
       "\\item 1\n",
       "\\item 3\n",
       "\\item 4\n",
       "\\item 5\n",
       "\\item 8\n",
       "\\item <NA>\n",
       "\\end{enumerate*}\n"
      ],
      "text/markdown": [
       "1. 5\n",
       "2. 8\n",
       "3. 1\n",
       "4. 3\n",
       "5. 4\n",
       "6. 5\n",
       "7. 8\n",
       "8. &lt;NA&gt;\n",
       "\n",
       "\n"
      ],
      "text/plain": [
       "[1]  5  8  1  3  4  5  8 NA"
      ]
     },
     "metadata": {},
     "output_type": "display_data"
    }
   ],
   "source": [
    "y <- c(x, 1, c(3, 4), x, NA)\n",
    "y"
   ]
  },
  {
   "cell_type": "code",
   "execution_count": 20,
   "id": "73115ead-9a1d-4510-9573-ed5e24539cb9",
   "metadata": {},
   "outputs": [
    {
     "data": {
      "text/html": [
       "<ol class=list-inline>\n",
       "\t<li>5</li>\n",
       "\t<li>6</li>\n",
       "\t<li>7</li>\n",
       "\t<li>8</li>\n",
       "\t<li>9</li>\n",
       "</ol>\n"
      ],
      "text/latex": [
       "\\begin{enumerate*}\n",
       "\\item 5\n",
       "\\item 6\n",
       "\\item 7\n",
       "\\item 8\n",
       "\\item 9\n",
       "\\end{enumerate*}\n"
      ],
      "text/markdown": [
       "1. 5\n",
       "2. 6\n",
       "3. 7\n",
       "4. 8\n",
       "5. 9\n",
       "\n",
       "\n"
      ],
      "text/plain": [
       "[1] 5 6 7 8 9"
      ]
     },
     "metadata": {},
     "output_type": "display_data"
    },
    {
     "data": {
      "text/html": [
       "<ol class=list-inline>\n",
       "\t<li>3</li>\n",
       "\t<li>2</li>\n",
       "\t<li>1</li>\n",
       "\t<li>0</li>\n",
       "\t<li>-1</li>\n",
       "</ol>\n"
      ],
      "text/latex": [
       "\\begin{enumerate*}\n",
       "\\item 3\n",
       "\\item 2\n",
       "\\item 1\n",
       "\\item 0\n",
       "\\item -1\n",
       "\\end{enumerate*}\n"
      ],
      "text/markdown": [
       "1. 3\n",
       "2. 2\n",
       "3. 1\n",
       "4. 0\n",
       "5. -1\n",
       "\n",
       "\n"
      ],
      "text/plain": [
       "[1]  3  2  1  0 -1"
      ]
     },
     "metadata": {},
     "output_type": "display_data"
    }
   ],
   "source": [
    "5 : 9\n",
    "3 : -1"
   ]
  },
  {
   "cell_type": "code",
   "execution_count": 21,
   "id": "fa691af1-e233-4e35-a793-7d0faca76328",
   "metadata": {},
   "outputs": [
    {
     "data": {
      "text/html": [
       "<ol class=list-inline>\n",
       "\t<li>1</li>\n",
       "\t<li>1.25</li>\n",
       "\t<li>1.5</li>\n",
       "\t<li>1.75</li>\n",
       "\t<li>2</li>\n",
       "</ol>\n"
      ],
      "text/latex": [
       "\\begin{enumerate*}\n",
       "\\item 1\n",
       "\\item 1.25\n",
       "\\item 1.5\n",
       "\\item 1.75\n",
       "\\item 2\n",
       "\\end{enumerate*}\n"
      ],
      "text/markdown": [
       "1. 1\n",
       "2. 1.25\n",
       "3. 1.5\n",
       "4. 1.75\n",
       "5. 2\n",
       "\n",
       "\n"
      ],
      "text/plain": [
       "[1] 1.00 1.25 1.50 1.75 2.00"
      ]
     },
     "metadata": {},
     "output_type": "display_data"
    }
   ],
   "source": [
    "seq(1, 2, by=0.25)"
   ]
  },
  {
   "cell_type": "code",
   "execution_count": 22,
   "id": "8da11225-1db5-45bf-901d-33164ee991cd",
   "metadata": {},
   "outputs": [
    {
     "data": {
      "text/html": [
       "<ol class=list-inline>\n",
       "\t<li>3</li>\n",
       "\t<li>3.25</li>\n",
       "\t<li>3.5</li>\n",
       "\t<li>3.75</li>\n",
       "\t<li>4</li>\n",
       "</ol>\n"
      ],
      "text/latex": [
       "\\begin{enumerate*}\n",
       "\\item 3\n",
       "\\item 3.25\n",
       "\\item 3.5\n",
       "\\item 3.75\n",
       "\\item 4\n",
       "\\end{enumerate*}\n"
      ],
      "text/markdown": [
       "1. 3\n",
       "2. 3.25\n",
       "3. 3.5\n",
       "4. 3.75\n",
       "5. 4\n",
       "\n",
       "\n"
      ],
      "text/plain": [
       "[1] 3.00 3.25 3.50 3.75 4.00"
      ]
     },
     "metadata": {},
     "output_type": "display_data"
    }
   ],
   "source": [
    "seq(3, 4, length.out=5)"
   ]
  },
  {
   "cell_type": "code",
   "execution_count": 23,
   "id": "d6614811-4451-414d-acd4-736b8b1e9bde",
   "metadata": {},
   "outputs": [
    {
     "data": {
      "text/html": [
       "<ol class=list-inline>\n",
       "\t<li>1</li>\n",
       "\t<li>2</li>\n",
       "\t<li>3</li>\n",
       "\t<li>1</li>\n",
       "\t<li>2</li>\n",
       "\t<li>3</li>\n",
       "\t<li>1</li>\n",
       "\t<li>2</li>\n",
       "\t<li>3</li>\n",
       "</ol>\n"
      ],
      "text/latex": [
       "\\begin{enumerate*}\n",
       "\\item 1\n",
       "\\item 2\n",
       "\\item 3\n",
       "\\item 1\n",
       "\\item 2\n",
       "\\item 3\n",
       "\\item 1\n",
       "\\item 2\n",
       "\\item 3\n",
       "\\end{enumerate*}\n"
      ],
      "text/markdown": [
       "1. 1\n",
       "2. 2\n",
       "3. 3\n",
       "4. 1\n",
       "5. 2\n",
       "6. 3\n",
       "7. 1\n",
       "8. 2\n",
       "9. 3\n",
       "\n",
       "\n"
      ],
      "text/plain": [
       "[1] 1 2 3 1 2 3 1 2 3"
      ]
     },
     "metadata": {},
     "output_type": "display_data"
    }
   ],
   "source": [
    "rep(1:3, times=3)"
   ]
  },
  {
   "cell_type": "code",
   "execution_count": 24,
   "id": "6c1cd362-d5bc-46a6-8046-8194b55f02ef",
   "metadata": {},
   "outputs": [
    {
     "data": {
      "text/html": [
       "<ol class=list-inline>\n",
       "\t<li>1</li>\n",
       "\t<li>1</li>\n",
       "\t<li>1</li>\n",
       "\t<li>2</li>\n",
       "\t<li>2</li>\n",
       "\t<li>2</li>\n",
       "\t<li>3</li>\n",
       "\t<li>3</li>\n",
       "\t<li>3</li>\n",
       "</ol>\n"
      ],
      "text/latex": [
       "\\begin{enumerate*}\n",
       "\\item 1\n",
       "\\item 1\n",
       "\\item 1\n",
       "\\item 2\n",
       "\\item 2\n",
       "\\item 2\n",
       "\\item 3\n",
       "\\item 3\n",
       "\\item 3\n",
       "\\end{enumerate*}\n"
      ],
      "text/markdown": [
       "1. 1\n",
       "2. 1\n",
       "3. 1\n",
       "4. 2\n",
       "5. 2\n",
       "6. 2\n",
       "7. 3\n",
       "8. 3\n",
       "9. 3\n",
       "\n",
       "\n"
      ],
      "text/plain": [
       "[1] 1 1 1 2 2 2 3 3 3"
      ]
     },
     "metadata": {},
     "output_type": "display_data"
    }
   ],
   "source": [
    "rep(1:3, each=3)"
   ]
  },
  {
   "cell_type": "code",
   "execution_count": 25,
   "id": "ba3c2bb5-cbb4-4d34-b547-3df031ac768b",
   "metadata": {},
   "outputs": [
    {
     "data": {
      "text/html": [
       "<ol class=list-inline>\n",
       "\t<li>1</li>\n",
       "\t<li>2</li>\n",
       "\t<li>3</li>\n",
       "\t<li>1</li>\n",
       "\t<li>2</li>\n",
       "</ol>\n"
      ],
      "text/latex": [
       "\\begin{enumerate*}\n",
       "\\item 1\n",
       "\\item 2\n",
       "\\item 3\n",
       "\\item 1\n",
       "\\item 2\n",
       "\\end{enumerate*}\n"
      ],
      "text/markdown": [
       "1. 1\n",
       "2. 2\n",
       "3. 3\n",
       "4. 1\n",
       "5. 2\n",
       "\n",
       "\n"
      ],
      "text/plain": [
       "[1] 1 2 3 1 2"
      ]
     },
     "metadata": {},
     "output_type": "display_data"
    }
   ],
   "source": [
    "rep(1:3, length.out=5)"
   ]
  },
  {
   "cell_type": "markdown",
   "id": "419109b1",
   "metadata": {},
   "source": [
    "### Task 1"
   ]
  },
  {
   "cell_type": "code",
   "execution_count": 26,
   "id": "e56e52c4-1532-46fc-b8e3-0acf9a85934b",
   "metadata": {},
   "outputs": [],
   "source": [
    "u <- seq(0 ,1, 1/3)\n",
    "v <- seq(0, 1, 1/7)"
   ]
  },
  {
   "cell_type": "code",
   "execution_count": 27,
   "id": "331b55aa",
   "metadata": {},
   "outputs": [
    {
     "data": {
      "text/html": [
       "<ol class=list-inline>\n",
       "\t<li>0</li>\n",
       "\t<li>0.333333333333333</li>\n",
       "\t<li>0.666666666666667</li>\n",
       "\t<li>1</li>\n",
       "\t<li>0</li>\n",
       "\t<li>0.142857142857143</li>\n",
       "\t<li>0.285714285714286</li>\n",
       "\t<li>0.428571428571429</li>\n",
       "\t<li>0.571428571428571</li>\n",
       "\t<li>0.714285714285714</li>\n",
       "\t<li>0.857142857142857</li>\n",
       "\t<li>1</li>\n",
       "</ol>\n"
      ],
      "text/latex": [
       "\\begin{enumerate*}\n",
       "\\item 0\n",
       "\\item 0.333333333333333\n",
       "\\item 0.666666666666667\n",
       "\\item 1\n",
       "\\item 0\n",
       "\\item 0.142857142857143\n",
       "\\item 0.285714285714286\n",
       "\\item 0.428571428571429\n",
       "\\item 0.571428571428571\n",
       "\\item 0.714285714285714\n",
       "\\item 0.857142857142857\n",
       "\\item 1\n",
       "\\end{enumerate*}\n"
      ],
      "text/markdown": [
       "1. 0\n",
       "2. 0.333333333333333\n",
       "3. 0.666666666666667\n",
       "4. 1\n",
       "5. 0\n",
       "6. 0.142857142857143\n",
       "7. 0.285714285714286\n",
       "8. 0.428571428571429\n",
       "9. 0.571428571428571\n",
       "10. 0.714285714285714\n",
       "11. 0.857142857142857\n",
       "12. 1\n",
       "\n",
       "\n"
      ],
      "text/plain": [
       " [1] 0.0000000 0.3333333 0.6666667 1.0000000 0.0000000 0.1428571 0.2857143\n",
       " [8] 0.4285714 0.5714286 0.7142857 0.8571429 1.0000000"
      ]
     },
     "metadata": {},
     "output_type": "display_data"
    }
   ],
   "source": [
    "c(u, v)"
   ]
  },
  {
   "cell_type": "code",
   "execution_count": 28,
   "id": "4d46c4ab",
   "metadata": {},
   "outputs": [],
   "source": [
    "help('sort')"
   ]
  },
  {
   "cell_type": "code",
   "execution_count": 29,
   "id": "3947ff56",
   "metadata": {},
   "outputs": [],
   "source": [
    "sorted_vector <- sort(c(u, v))"
   ]
  },
  {
   "cell_type": "code",
   "execution_count": 30,
   "id": "0f26ee65",
   "metadata": {},
   "outputs": [
    {
     "data": {
      "text/html": [
       "<ol class=list-inline>\n",
       "\t<li>0</li>\n",
       "\t<li>0</li>\n",
       "\t<li>0.142857142857143</li>\n",
       "\t<li>0.285714285714286</li>\n",
       "\t<li>0.333333333333333</li>\n",
       "\t<li>0.428571428571429</li>\n",
       "\t<li>0.571428571428571</li>\n",
       "\t<li>0.666666666666667</li>\n",
       "\t<li>0.714285714285714</li>\n",
       "\t<li>0.857142857142857</li>\n",
       "\t<li>1</li>\n",
       "\t<li>1</li>\n",
       "</ol>\n"
      ],
      "text/latex": [
       "\\begin{enumerate*}\n",
       "\\item 0\n",
       "\\item 0\n",
       "\\item 0.142857142857143\n",
       "\\item 0.285714285714286\n",
       "\\item 0.333333333333333\n",
       "\\item 0.428571428571429\n",
       "\\item 0.571428571428571\n",
       "\\item 0.666666666666667\n",
       "\\item 0.714285714285714\n",
       "\\item 0.857142857142857\n",
       "\\item 1\n",
       "\\item 1\n",
       "\\end{enumerate*}\n"
      ],
      "text/markdown": [
       "1. 0\n",
       "2. 0\n",
       "3. 0.142857142857143\n",
       "4. 0.285714285714286\n",
       "5. 0.333333333333333\n",
       "6. 0.428571428571429\n",
       "7. 0.571428571428571\n",
       "8. 0.666666666666667\n",
       "9. 0.714285714285714\n",
       "10. 0.857142857142857\n",
       "11. 1\n",
       "12. 1\n",
       "\n",
       "\n"
      ],
      "text/plain": [
       " [1] 0.0000000 0.0000000 0.1428571 0.2857143 0.3333333 0.4285714 0.5714286\n",
       " [8] 0.6666667 0.7142857 0.8571429 1.0000000 1.0000000"
      ]
     },
     "metadata": {},
     "output_type": "display_data"
    }
   ],
   "source": [
    "sorted_vector"
   ]
  },
  {
   "cell_type": "code",
   "execution_count": 31,
   "id": "a0f87b9c",
   "metadata": {},
   "outputs": [
    {
     "data": {
      "text/html": [
       "<ol class=list-inline>\n",
       "\t<li>0</li>\n",
       "\t<li>0.142857142857143</li>\n",
       "\t<li>0.285714285714286</li>\n",
       "\t<li>0.333333333333333</li>\n",
       "\t<li>0.428571428571429</li>\n",
       "\t<li>0.571428571428571</li>\n",
       "\t<li>0.666666666666667</li>\n",
       "\t<li>0.714285714285714</li>\n",
       "\t<li>0.857142857142857</li>\n",
       "\t<li>1</li>\n",
       "</ol>\n"
      ],
      "text/latex": [
       "\\begin{enumerate*}\n",
       "\\item 0\n",
       "\\item 0.142857142857143\n",
       "\\item 0.285714285714286\n",
       "\\item 0.333333333333333\n",
       "\\item 0.428571428571429\n",
       "\\item 0.571428571428571\n",
       "\\item 0.666666666666667\n",
       "\\item 0.714285714285714\n",
       "\\item 0.857142857142857\n",
       "\\item 1\n",
       "\\end{enumerate*}\n"
      ],
      "text/markdown": [
       "1. 0\n",
       "2. 0.142857142857143\n",
       "3. 0.285714285714286\n",
       "4. 0.333333333333333\n",
       "5. 0.428571428571429\n",
       "6. 0.571428571428571\n",
       "7. 0.666666666666667\n",
       "8. 0.714285714285714\n",
       "9. 0.857142857142857\n",
       "10. 1\n",
       "\n",
       "\n"
      ],
      "text/plain": [
       " [1] 0.0000000 0.1428571 0.2857143 0.3333333 0.4285714 0.5714286 0.6666667\n",
       " [8] 0.7142857 0.8571429 1.0000000"
      ]
     },
     "metadata": {},
     "output_type": "display_data"
    }
   ],
   "source": [
    "unique(sorted_vector)"
   ]
  },
  {
   "cell_type": "markdown",
   "id": "231160a8",
   "metadata": {},
   "source": [
    "Вместе мы решили задачу про 1/3 и 1/7. Напишите функцию get_fractions, которая принимает на вход два числа, m и n, и возвращает аналогичный вектор, содержащий все дроби вида {i/m, i = 0, 1, ..., m} и  {j/n, j = 0, 1, ..., n}. Вектор не должен содержать повторов. И -- сюжетный поворот -- должен быть упорядочен в порядке убывания.  \n",
    "\n",
    "Подсказки:  \n",
    "\n",
    "1. проверить функцию можно подстановкой m=3, n=7: должен получиться вектор из моего примера, только задом наперёд;  \n",
    "2. в R огромное количество функций, а у многих функций есть вспомогательные аргументы."
   ]
  },
  {
   "cell_type": "code",
   "execution_count": 32,
   "id": "5632ae6f",
   "metadata": {},
   "outputs": [],
   "source": [
    "get_fractions <- function(m, n) {\n",
    "    return(unique(sort(c(seq(0, 1, 1/m), seq(0, 1, 1/n)), decreasing=TRUE)))\n",
    "}"
   ]
  },
  {
   "cell_type": "code",
   "execution_count": 33,
   "id": "14d06989",
   "metadata": {},
   "outputs": [
    {
     "data": {
      "text/html": [
       "<ol class=list-inline>\n",
       "\t<li>1</li>\n",
       "\t<li>0.857142857142857</li>\n",
       "\t<li>0.714285714285714</li>\n",
       "\t<li>0.666666666666667</li>\n",
       "\t<li>0.571428571428571</li>\n",
       "\t<li>0.428571428571429</li>\n",
       "\t<li>0.333333333333333</li>\n",
       "\t<li>0.285714285714286</li>\n",
       "\t<li>0.142857142857143</li>\n",
       "\t<li>0</li>\n",
       "</ol>\n"
      ],
      "text/latex": [
       "\\begin{enumerate*}\n",
       "\\item 1\n",
       "\\item 0.857142857142857\n",
       "\\item 0.714285714285714\n",
       "\\item 0.666666666666667\n",
       "\\item 0.571428571428571\n",
       "\\item 0.428571428571429\n",
       "\\item 0.333333333333333\n",
       "\\item 0.285714285714286\n",
       "\\item 0.142857142857143\n",
       "\\item 0\n",
       "\\end{enumerate*}\n"
      ],
      "text/markdown": [
       "1. 1\n",
       "2. 0.857142857142857\n",
       "3. 0.714285714285714\n",
       "4. 0.666666666666667\n",
       "5. 0.571428571428571\n",
       "6. 0.428571428571429\n",
       "7. 0.333333333333333\n",
       "8. 0.285714285714286\n",
       "9. 0.142857142857143\n",
       "10. 0\n",
       "\n",
       "\n"
      ],
      "text/plain": [
       " [1] 1.0000000 0.8571429 0.7142857 0.6666667 0.5714286 0.4285714 0.3333333\n",
       " [8] 0.2857143 0.1428571 0.0000000"
      ]
     },
     "metadata": {},
     "output_type": "display_data"
    }
   ],
   "source": [
    "get_fractions(3, 7)"
   ]
  },
  {
   "cell_type": "markdown",
   "id": "fc5116b9",
   "metadata": {},
   "source": [
    "### Types of vectors"
   ]
  },
  {
   "cell_type": "code",
   "execution_count": 34,
   "id": "eecc6644",
   "metadata": {},
   "outputs": [
    {
     "data": {
      "text/html": [
       "'character'"
      ],
      "text/latex": [
       "'character'"
      ],
      "text/markdown": [
       "'character'"
      ],
      "text/plain": [
       "[1] \"character\""
      ]
     },
     "metadata": {},
     "output_type": "display_data"
    }
   ],
   "source": [
    "a <- c('Дуб - дерево', 'Роза - цветок', 'Воробей - птица')\n",
    "typeof(a)"
   ]
  },
  {
   "cell_type": "code",
   "execution_count": 35,
   "id": "746e8cb2",
   "metadata": {},
   "outputs": [
    {
     "data": {
      "text/html": [
       "TRUE"
      ],
      "text/latex": [
       "TRUE"
      ],
      "text/markdown": [
       "TRUE"
      ],
      "text/plain": [
       "[1] TRUE"
      ]
     },
     "metadata": {},
     "output_type": "display_data"
    },
    {
     "data": {
      "text/html": [
       "FALSE"
      ],
      "text/latex": [
       "FALSE"
      ],
      "text/markdown": [
       "FALSE"
      ],
      "text/plain": [
       "[1] FALSE"
      ]
     },
     "metadata": {},
     "output_type": "display_data"
    }
   ],
   "source": [
    "is.character(a)\n",
    "is.logical(a)"
   ]
  },
  {
   "cell_type": "code",
   "execution_count": 36,
   "id": "90bba0a1",
   "metadata": {},
   "outputs": [
    {
     "data": {
      "text/html": [
       "'double'"
      ],
      "text/latex": [
       "'double'"
      ],
      "text/markdown": [
       "'double'"
      ],
      "text/plain": [
       "[1] \"double\""
      ]
     },
     "metadata": {},
     "output_type": "display_data"
    }
   ],
   "source": [
    "b <- c(FALSE, 1.5)\n",
    "typeof(b)"
   ]
  },
  {
   "cell_type": "code",
   "execution_count": 37,
   "id": "0253cb75",
   "metadata": {},
   "outputs": [
    {
     "data": {
      "text/html": [
       "'character'"
      ],
      "text/latex": [
       "'character'"
      ],
      "text/markdown": [
       "'character'"
      ],
      "text/plain": [
       "[1] \"character\""
      ]
     },
     "metadata": {},
     "output_type": "display_data"
    }
   ],
   "source": [
    "b <- c(5, b, 'abc')\n",
    "typeof(b)"
   ]
  },
  {
   "cell_type": "code",
   "execution_count": 38,
   "id": "3ad25f53",
   "metadata": {},
   "outputs": [
    {
     "name": "stderr",
     "output_type": "stream",
     "text": [
      "Warning message in eval(expr, envir, enclos):\n",
      "\"в результате преобразования созданы NA\""
     ]
    },
    {
     "data": {
      "text/html": [
       "<ol class=list-inline>\n",
       "\t<li>5</li>\n",
       "\t<li>0</li>\n",
       "\t<li>1.5</li>\n",
       "\t<li>&lt;NA&gt;</li>\n",
       "</ol>\n"
      ],
      "text/latex": [
       "\\begin{enumerate*}\n",
       "\\item 5\n",
       "\\item 0\n",
       "\\item 1.5\n",
       "\\item <NA>\n",
       "\\end{enumerate*}\n"
      ],
      "text/markdown": [
       "1. 5\n",
       "2. 0\n",
       "3. 1.5\n",
       "4. &lt;NA&gt;\n",
       "\n",
       "\n"
      ],
      "text/plain": [
       "[1] 5.0 0.0 1.5  NA"
      ]
     },
     "metadata": {},
     "output_type": "display_data"
    }
   ],
   "source": [
    "as.numeric(b)"
   ]
  },
  {
   "cell_type": "code",
   "execution_count": 39,
   "id": "5118b377",
   "metadata": {
    "scrolled": true
   },
   "outputs": [
    {
     "name": "stderr",
     "output_type": "stream",
     "text": [
      "Warning message in eval(expr, envir, enclos):\n",
      "\"в результате преобразования созданы NA\""
     ]
    },
    {
     "data": {
      "text/html": [
       "<ol class=list-inline>\n",
       "\t<li>5</li>\n",
       "\t<li>0</li>\n",
       "\t<li>1</li>\n",
       "\t<li>&lt;NA&gt;</li>\n",
       "</ol>\n"
      ],
      "text/latex": [
       "\\begin{enumerate*}\n",
       "\\item 5\n",
       "\\item 0\n",
       "\\item 1\n",
       "\\item <NA>\n",
       "\\end{enumerate*}\n"
      ],
      "text/markdown": [
       "1. 5\n",
       "2. 0\n",
       "3. 1\n",
       "4. &lt;NA&gt;\n",
       "\n",
       "\n"
      ],
      "text/plain": [
       "[1]  5  0  1 NA"
      ]
     },
     "metadata": {},
     "output_type": "display_data"
    }
   ],
   "source": [
    "as.integer(b)"
   ]
  },
  {
   "cell_type": "code",
   "execution_count": 40,
   "id": "4972f18b",
   "metadata": {},
   "outputs": [
    {
     "data": {
      "text/html": [
       "100"
      ],
      "text/latex": [
       "100"
      ],
      "text/markdown": [
       "100"
      ],
      "text/plain": [
       "[1] 100"
      ]
     },
     "metadata": {},
     "output_type": "display_data"
    }
   ],
   "source": [
    "x <- 1:100\n",
    "length(x)"
   ]
  },
  {
   "cell_type": "code",
   "execution_count": 41,
   "id": "2db289ab",
   "metadata": {},
   "outputs": [
    {
     "data": {
      "text/html": [
       "<ol class=list-inline>\n",
       "\t<li>1</li>\n",
       "\t<li>2</li>\n",
       "\t<li>3</li>\n",
       "\t<li>4</li>\n",
       "</ol>\n"
      ],
      "text/latex": [
       "\\begin{enumerate*}\n",
       "\\item 1\n",
       "\\item 2\n",
       "\\item 3\n",
       "\\item 4\n",
       "\\end{enumerate*}\n"
      ],
      "text/markdown": [
       "1. 1\n",
       "2. 2\n",
       "3. 3\n",
       "4. 4\n",
       "\n",
       "\n"
      ],
      "text/plain": [
       "[1] 1 2 3 4"
      ]
     },
     "metadata": {},
     "output_type": "display_data"
    }
   ],
   "source": [
    "length(x) <- 4\n",
    "x"
   ]
  },
  {
   "cell_type": "code",
   "execution_count": 42,
   "id": "72004243",
   "metadata": {},
   "outputs": [
    {
     "data": {
      "text/html": [
       "<ol class=list-inline>\n",
       "\t<li>1</li>\n",
       "\t<li>2</li>\n",
       "\t<li>3</li>\n",
       "\t<li>4</li>\n",
       "\t<li>&lt;NA&gt;</li>\n",
       "\t<li>&lt;NA&gt;</li>\n",
       "\t<li>&lt;NA&gt;</li>\n",
       "</ol>\n"
      ],
      "text/latex": [
       "\\begin{enumerate*}\n",
       "\\item 1\n",
       "\\item 2\n",
       "\\item 3\n",
       "\\item 4\n",
       "\\item <NA>\n",
       "\\item <NA>\n",
       "\\item <NA>\n",
       "\\end{enumerate*}\n"
      ],
      "text/markdown": [
       "1. 1\n",
       "2. 2\n",
       "3. 3\n",
       "4. 4\n",
       "5. &lt;NA&gt;\n",
       "6. &lt;NA&gt;\n",
       "7. &lt;NA&gt;\n",
       "\n",
       "\n"
      ],
      "text/plain": [
       "[1]  1  2  3  4 NA NA NA"
      ]
     },
     "metadata": {},
     "output_type": "display_data"
    }
   ],
   "source": [
    "length(x) <- 7\n",
    "x"
   ]
  },
  {
   "cell_type": "code",
   "execution_count": 46,
   "id": "241d03e0",
   "metadata": {},
   "outputs": [
    {
     "data": {
      "text/html": [
       "'double'"
      ],
      "text/latex": [
       "'double'"
      ],
      "text/markdown": [
       "'double'"
      ],
      "text/plain": [
       "[1] \"double\""
      ]
     },
     "metadata": {},
     "output_type": "display_data"
    },
    {
     "data": {
      "text/html": [
       "<ol class=list-inline>\n",
       "\t<li>'uno'</li>\n",
       "\t<li>'dos'</li>\n",
       "\t<li>'universal answer'</li>\n",
       "\t<li>''</li>\n",
       "</ol>\n"
      ],
      "text/latex": [
       "\\begin{enumerate*}\n",
       "\\item 'uno'\n",
       "\\item 'dos'\n",
       "\\item 'universal answer'\n",
       "\\item ''\n",
       "\\end{enumerate*}\n"
      ],
      "text/markdown": [
       "1. 'uno'\n",
       "2. 'dos'\n",
       "3. 'universal answer'\n",
       "4. ''\n",
       "\n",
       "\n"
      ],
      "text/plain": [
       "[1] \"uno\"              \"dos\"              \"universal answer\" \"\"                "
      ]
     },
     "metadata": {},
     "output_type": "display_data"
    },
    {
     "data": {
      "text/html": [
       "<dl class=dl-horizontal>\n",
       "\t<dt>uno</dt>\n",
       "\t\t<dd>1</dd>\n",
       "\t<dt>dos</dt>\n",
       "\t\t<dd>2</dd>\n",
       "\t<dt>universal answer</dt>\n",
       "\t\t<dd>42</dd>\n",
       "\t<dt>4</dt>\n",
       "\t\t<dd>99</dd>\n",
       "</dl>\n"
      ],
      "text/latex": [
       "\\begin{description*}\n",
       "\\item[uno] 1\n",
       "\\item[dos] 2\n",
       "\\item[universal answer] 42\n",
       "\\item[4] 99\n",
       "\\end{description*}\n"
      ],
      "text/markdown": [
       "uno\n",
       ":   1dos\n",
       ":   2universal answer\n",
       ":   424\n",
       ":   99\n",
       "\n"
      ],
      "text/plain": [
       "             uno              dos universal answer                  \n",
       "               1                2               42               99 "
      ]
     },
     "metadata": {},
     "output_type": "display_data"
    }
   ],
   "source": [
    "a <- c(uno=1, dos=2, 'universal answer'=42, 99)\n",
    "typeof(a)\n",
    "names(a)\n",
    "a"
   ]
  },
  {
   "cell_type": "code",
   "execution_count": 44,
   "id": "c7e9f39b",
   "metadata": {},
   "outputs": [
    {
     "data": {
      "text/html": [
       "<dl class=dl-horizontal>\n",
       "\t<dt>one</dt>\n",
       "\t\t<dd>1</dd>\n",
       "\t<dt>two</dt>\n",
       "\t\t<dd>2</dd>\n",
       "\t<dt>forty two</dt>\n",
       "\t\t<dd>42</dd>\n",
       "\t<dt>ninety nine</dt>\n",
       "\t\t<dd>99</dd>\n",
       "</dl>\n"
      ],
      "text/latex": [
       "\\begin{description*}\n",
       "\\item[one] 1\n",
       "\\item[two] 2\n",
       "\\item[forty two] 42\n",
       "\\item[ninety nine] 99\n",
       "\\end{description*}\n"
      ],
      "text/markdown": [
       "one\n",
       ":   1two\n",
       ":   2forty two\n",
       ":   42ninety nine\n",
       ":   99\n",
       "\n"
      ],
      "text/plain": [
       "        one         two   forty two ninety nine \n",
       "          1           2          42          99 "
      ]
     },
     "metadata": {},
     "output_type": "display_data"
    }
   ],
   "source": [
    "names(a) <- c('one', 'two', 'forty two', 'ninety nine')\n",
    "a"
   ]
  },
  {
   "cell_type": "code",
   "execution_count": 45,
   "id": "7418ab2b",
   "metadata": {},
   "outputs": [
    {
     "data": {
      "text/html": [
       "<ol class=list-inline>\n",
       "\t<li>1</li>\n",
       "\t<li>2</li>\n",
       "\t<li>42</li>\n",
       "\t<li>99</li>\n",
       "</ol>\n"
      ],
      "text/latex": [
       "\\begin{enumerate*}\n",
       "\\item 1\n",
       "\\item 2\n",
       "\\item 42\n",
       "\\item 99\n",
       "\\end{enumerate*}\n"
      ],
      "text/markdown": [
       "1. 1\n",
       "2. 2\n",
       "3. 42\n",
       "4. 99\n",
       "\n",
       "\n"
      ],
      "text/plain": [
       "[1]  1  2 42 99"
      ]
     },
     "metadata": {},
     "output_type": "display_data"
    }
   ],
   "source": [
    "names(a) <- NULL\n",
    "a"
   ]
  },
  {
   "cell_type": "markdown",
   "id": "1cdd3488",
   "metadata": {},
   "source": [
    "### Vector's arithmetic"
   ]
  },
  {
   "cell_type": "code",
   "execution_count": 47,
   "id": "88ac6591",
   "metadata": {},
   "outputs": [
    {
     "data": {
      "text/html": [
       "<ol class=list-inline>\n",
       "\t<li>0</li>\n",
       "\t<li>4</li>\n",
       "\t<li>3</li>\n",
       "</ol>\n"
      ],
      "text/latex": [
       "\\begin{enumerate*}\n",
       "\\item 0\n",
       "\\item 4\n",
       "\\item 3\n",
       "\\end{enumerate*}\n"
      ],
      "text/markdown": [
       "1. 0\n",
       "2. 4\n",
       "3. 3\n",
       "\n",
       "\n"
      ],
      "text/plain": [
       "[1] 0 4 3"
      ]
     },
     "metadata": {},
     "output_type": "display_data"
    }
   ],
   "source": [
    "1:3 + c(-1, 2, 0)"
   ]
  },
  {
   "cell_type": "code",
   "execution_count": 48,
   "id": "9903a64f",
   "metadata": {},
   "outputs": [
    {
     "data": {
      "text/html": [
       "<ol class=list-inline>\n",
       "\t<li>-1</li>\n",
       "\t<li>4</li>\n",
       "\t<li>0</li>\n",
       "</ol>\n"
      ],
      "text/latex": [
       "\\begin{enumerate*}\n",
       "\\item -1\n",
       "\\item 4\n",
       "\\item 0\n",
       "\\end{enumerate*}\n"
      ],
      "text/markdown": [
       "1. -1\n",
       "2. 4\n",
       "3. 0\n",
       "\n",
       "\n"
      ],
      "text/plain": [
       "[1] -1  4  0"
      ]
     },
     "metadata": {},
     "output_type": "display_data"
    }
   ],
   "source": [
    "1:3 * c(-1, 2, 0)"
   ]
  },
  {
   "cell_type": "code",
   "execution_count": 51,
   "id": "3862891c",
   "metadata": {},
   "outputs": [
    {
     "data": {
      "text/html": [
       "<ol class=list-inline>\n",
       "\t<li>FALSE</li>\n",
       "\t<li>TRUE</li>\n",
       "\t<li>TRUE</li>\n",
       "</ol>\n"
      ],
      "text/latex": [
       "\\begin{enumerate*}\n",
       "\\item FALSE\n",
       "\\item TRUE\n",
       "\\item TRUE\n",
       "\\end{enumerate*}\n"
      ],
      "text/markdown": [
       "1. FALSE\n",
       "2. TRUE\n",
       "3. TRUE\n",
       "\n",
       "\n"
      ],
      "text/plain": [
       "[1] FALSE  TRUE  TRUE"
      ]
     },
     "metadata": {},
     "output_type": "display_data"
    }
   ],
   "source": [
    "c(TRUE, TRUE, TRUE) & c(0, 1, 999)"
   ]
  },
  {
   "cell_type": "markdown",
   "id": "1bc23629",
   "metadata": {},
   "source": [
    "### Vectorization"
   ]
  },
  {
   "cell_type": "code",
   "execution_count": 52,
   "id": "bbe4f048",
   "metadata": {},
   "outputs": [
    {
     "data": {
      "text/html": [
       "<ol class=list-inline>\n",
       "\t<li>1</li>\n",
       "\t<li>1.4142135623731</li>\n",
       "\t<li>1.73205080756888</li>\n",
       "\t<li>2</li>\n",
       "</ol>\n"
      ],
      "text/latex": [
       "\\begin{enumerate*}\n",
       "\\item 1\n",
       "\\item 1.4142135623731\n",
       "\\item 1.73205080756888\n",
       "\\item 2\n",
       "\\end{enumerate*}\n"
      ],
      "text/markdown": [
       "1. 1\n",
       "2. 1.4142135623731\n",
       "3. 1.73205080756888\n",
       "4. 2\n",
       "\n",
       "\n"
      ],
      "text/plain": [
       "[1] 1.000000 1.414214 1.732051 2.000000"
      ]
     },
     "metadata": {},
     "output_type": "display_data"
    }
   ],
   "source": [
    "sqrt(1:4)"
   ]
  },
  {
   "cell_type": "code",
   "execution_count": 53,
   "id": "81da1310",
   "metadata": {},
   "outputs": [
    {
     "data": {
      "text/html": [
       "<ol class=list-inline>\n",
       "\t<li>0</li>\n",
       "\t<li>0.25</li>\n",
       "\t<li>0.5</li>\n",
       "\t<li>0.75</li>\n",
       "\t<li>1</li>\n",
       "\t<li>1.25</li>\n",
       "\t<li>1.5</li>\n",
       "\t<li>1.75</li>\n",
       "\t<li>2</li>\n",
       "\t<li>2.25</li>\n",
       "\t<li>2.5</li>\n",
       "\t<li>2.75</li>\n",
       "\t<li>3</li>\n",
       "</ol>\n"
      ],
      "text/latex": [
       "\\begin{enumerate*}\n",
       "\\item 0\n",
       "\\item 0.25\n",
       "\\item 0.5\n",
       "\\item 0.75\n",
       "\\item 1\n",
       "\\item 1.25\n",
       "\\item 1.5\n",
       "\\item 1.75\n",
       "\\item 2\n",
       "\\item 2.25\n",
       "\\item 2.5\n",
       "\\item 2.75\n",
       "\\item 3\n",
       "\\end{enumerate*}\n"
      ],
      "text/markdown": [
       "1. 0\n",
       "2. 0.25\n",
       "3. 0.5\n",
       "4. 0.75\n",
       "5. 1\n",
       "6. 1.25\n",
       "7. 1.5\n",
       "8. 1.75\n",
       "9. 2\n",
       "10. 2.25\n",
       "11. 2.5\n",
       "12. 2.75\n",
       "13. 3\n",
       "\n",
       "\n"
      ],
      "text/plain": [
       " [1] 0.00 0.25 0.50 0.75 1.00 1.25 1.50 1.75 2.00 2.25 2.50 2.75 3.00"
      ]
     },
     "metadata": {},
     "output_type": "display_data"
    },
    {
     "data": {
      "text/html": [
       "<ol class=list-inline>\n",
       "\t<li>0</li>\n",
       "\t<li>0</li>\n",
       "\t<li>0</li>\n",
       "\t<li>0</li>\n",
       "\t<li>1</li>\n",
       "\t<li>1</li>\n",
       "\t<li>1</li>\n",
       "\t<li>1</li>\n",
       "\t<li>2</li>\n",
       "\t<li>2</li>\n",
       "\t<li>2</li>\n",
       "\t<li>2</li>\n",
       "\t<li>3</li>\n",
       "</ol>\n"
      ],
      "text/latex": [
       "\\begin{enumerate*}\n",
       "\\item 0\n",
       "\\item 0\n",
       "\\item 0\n",
       "\\item 0\n",
       "\\item 1\n",
       "\\item 1\n",
       "\\item 1\n",
       "\\item 1\n",
       "\\item 2\n",
       "\\item 2\n",
       "\\item 2\n",
       "\\item 2\n",
       "\\item 3\n",
       "\\end{enumerate*}\n"
      ],
      "text/markdown": [
       "1. 0\n",
       "2. 0\n",
       "3. 0\n",
       "4. 0\n",
       "5. 1\n",
       "6. 1\n",
       "7. 1\n",
       "8. 1\n",
       "9. 2\n",
       "10. 2\n",
       "11. 2\n",
       "12. 2\n",
       "13. 3\n",
       "\n",
       "\n"
      ],
      "text/plain": [
       " [1] 0 0 0 0 1 1 1 1 2 2 2 2 3"
      ]
     },
     "metadata": {},
     "output_type": "display_data"
    }
   ],
   "source": [
    "seq(0, 3, by=0.25)\n",
    "floor(seq(0, 3, by=0.25))"
   ]
  },
  {
   "cell_type": "code",
   "execution_count": 54,
   "id": "b10f858e",
   "metadata": {},
   "outputs": [
    {
     "data": {
      "text/html": [
       "5050"
      ],
      "text/latex": [
       "5050"
      ],
      "text/markdown": [
       "5050"
      ],
      "text/plain": [
       "[1] 5050"
      ]
     },
     "metadata": {},
     "output_type": "display_data"
    }
   ],
   "source": [
    "sum(1:100)"
   ]
  },
  {
   "cell_type": "markdown",
   "id": "87b74223",
   "metadata": {},
   "source": [
    "## Control constructs, working with packages"
   ]
  },
  {
   "cell_type": "code",
   "execution_count": null,
   "id": "91cfc22c",
   "metadata": {},
   "outputs": [],
   "source": []
  }
 ],
 "metadata": {
  "kernelspec": {
   "display_name": "R",
   "language": "R",
   "name": "ir"
  },
  "language_info": {
   "codemirror_mode": "r",
   "file_extension": ".r",
   "mimetype": "text/x-r-source",
   "name": "R",
   "pygments_lexer": "r",
   "version": "3.6.1"
  },
  "toc": {
   "base_numbering": 1,
   "nav_menu": {},
   "number_sections": true,
   "sideBar": true,
   "skip_h1_title": false,
   "title_cell": "Table of Contents",
   "title_sidebar": "Contents",
   "toc_cell": true,
   "toc_position": {},
   "toc_section_display": true,
   "toc_window_display": true
  },
  "varInspector": {
   "cols": {
    "lenName": 16,
    "lenType": 16,
    "lenVar": 40
   },
   "kernels_config": {
    "python": {
     "delete_cmd_postfix": "",
     "delete_cmd_prefix": "del ",
     "library": "var_list.py",
     "varRefreshCmd": "print(var_dic_list())"
    },
    "r": {
     "delete_cmd_postfix": ") ",
     "delete_cmd_prefix": "rm(",
     "library": "var_list.r",
     "varRefreshCmd": "cat(var_dic_list()) "
    }
   },
   "position": {
    "height": "347.844px",
    "left": "1550px",
    "right": "20px",
    "top": "120px",
    "width": "350px"
   },
   "types_to_exclude": [
    "module",
    "function",
    "builtin_function_or_method",
    "instance",
    "_Feature"
   ],
   "window_display": true
  }
 },
 "nbformat": 4,
 "nbformat_minor": 5
}
