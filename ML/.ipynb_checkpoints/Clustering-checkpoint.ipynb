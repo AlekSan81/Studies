{
 "cells": [
  {
   "cell_type": "markdown",
   "metadata": {
    "executionInfo": {
     "elapsed": 264,
     "status": "ok",
     "timestamp": 1640411083814,
     "user": {
      "displayName": "Aleksey Sannikov",
      "photoUrl": "https://lh3.googleusercontent.com/a-/AOh14GheLDxhk3CmqcIYQJNZZe4j7vUnWWW1MlocbT9w=s64",
      "userId": "03451817862635539744"
     },
     "user_tz": -240
    },
    "id": "Iwa3FUhyxYAv"
   },
   "source": [
    "# Clustering"
   ]
  },
  {
   "cell_type": "code",
   "execution_count": null,
   "metadata": {},
   "outputs": [],
   "source": []
  }
 ],
 "metadata": {
  "colab": {
   "authorship_tag": "ABX9TyPR6F8ABTlpQ/XIl/XS/YJz",
   "name": "Clustering.ipynb",
   "provenance": []
  },
  "kernelspec": {
   "display_name": "Python 3 (ipykernel)",
   "language": "python",
   "name": "python3"
  },
  "language_info": {
   "codemirror_mode": {
    "name": "ipython",
    "version": 3
   },
   "file_extension": ".py",
   "mimetype": "text/x-python",
   "name": "python",
   "nbconvert_exporter": "python",
   "pygments_lexer": "ipython3",
   "version": "3.8.12"
  }
 },
 "nbformat": 4,
 "nbformat_minor": 4
}
