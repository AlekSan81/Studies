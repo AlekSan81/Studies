{
 "cells": [
  {
   "cell_type": "markdown",
   "metadata": {},
   "source": [
    "# The preparation of the dataset"
   ]
  },
  {
   "cell_type": "code",
   "execution_count": 1,
   "metadata": {
    "executionInfo": {
     "elapsed": 250,
     "status": "ok",
     "timestamp": 1641452630636,
     "user": {
      "displayName": "Aleksey Sannikov",
      "photoUrl": "https://lh3.googleusercontent.com/a-/AOh14GheLDxhk3CmqcIYQJNZZe4j7vUnWWW1MlocbT9w=s64",
      "userId": "03451817862635539744"
     },
     "user_tz": -240
    },
    "id": "140ujmln5JHy"
   },
   "outputs": [],
   "source": [
    "import pandas as pd\n",
    "import numpy as np\n",
    "import matplotlib.pyplot as plt"
   ]
  },
  {
   "cell_type": "code",
   "execution_count": 2,
   "metadata": {
    "colab": {
     "base_uri": "https://localhost:8080/",
     "height": 336
    },
    "executionInfo": {
     "elapsed": 654,
     "status": "ok",
     "timestamp": 1641452725419,
     "user": {
      "displayName": "Aleksey Sannikov",
      "photoUrl": "https://lh3.googleusercontent.com/a-/AOh14GheLDxhk3CmqcIYQJNZZe4j7vUnWWW1MlocbT9w=s64",
      "userId": "03451817862635539744"
     },
     "user_tz": -240
    },
    "id": "ieTqQnBrMjXo",
    "outputId": "b0872f04-827c-46a8-9adb-24408680ca30"
   },
   "outputs": [
    {
     "data": {
      "text/html": [
       "<div>\n",
       "<style scoped>\n",
       "    .dataframe tbody tr th:only-of-type {\n",
       "        vertical-align: middle;\n",
       "    }\n",
       "\n",
       "    .dataframe tbody tr th {\n",
       "        vertical-align: top;\n",
       "    }\n",
       "\n",
       "    .dataframe thead th {\n",
       "        text-align: right;\n",
       "    }\n",
       "</style>\n",
       "<table border=\"1\" class=\"dataframe\">\n",
       "  <thead>\n",
       "    <tr style=\"text-align: right;\">\n",
       "      <th></th>\n",
       "      <th>rating</th>\n",
       "      <th>movie</th>\n",
       "      <th>year</th>\n",
       "      <th>country</th>\n",
       "      <th>rating_ball</th>\n",
       "      <th>overview</th>\n",
       "      <th>director</th>\n",
       "      <th>screenwriter</th>\n",
       "      <th>actors</th>\n",
       "      <th>url_logo</th>\n",
       "    </tr>\n",
       "  </thead>\n",
       "  <tbody>\n",
       "    <tr>\n",
       "      <th>0</th>\n",
       "      <td>0</td>\n",
       "      <td>Побег из Шоушенка</td>\n",
       "      <td>1994</td>\n",
       "      <td>США</td>\n",
       "      <td>9.111</td>\n",
       "      <td>Бухгалтер Энди Дюфрейн обвинён в убийстве собс...</td>\n",
       "      <td>Фрэнк Дарабонт</td>\n",
       "      <td>Фрэнк Дарабонт;  Стивен Кинг</td>\n",
       "      <td>Тим Роббинс; Морган Фриман; Боб Гантон; Уильям...</td>\n",
       "      <td>'https://st.kp.yandex.net/images/film_iphone/i...</td>\n",
       "    </tr>\n",
       "    <tr>\n",
       "      <th>1</th>\n",
       "      <td>1</td>\n",
       "      <td>Зеленая миля</td>\n",
       "      <td>1999</td>\n",
       "      <td>США</td>\n",
       "      <td>9.062</td>\n",
       "      <td>Пол Эджкомб — начальник блока смертников в тюр...</td>\n",
       "      <td>Фрэнк Дарабонт</td>\n",
       "      <td>Фрэнк Дарабонт;  Стивен Кинг</td>\n",
       "      <td>Том Хэнкс; Дэвид Морс; Бонни Хант; Майкл Кларк...</td>\n",
       "      <td>'https://st.kp.yandex.net/images/film_iphone/i...</td>\n",
       "    </tr>\n",
       "    <tr>\n",
       "      <th>2</th>\n",
       "      <td>2</td>\n",
       "      <td>Форрест Гамп</td>\n",
       "      <td>1994</td>\n",
       "      <td>США</td>\n",
       "      <td>8.913</td>\n",
       "      <td>От лица главного героя Форреста Гампа; слабоум...</td>\n",
       "      <td>Роберт Земекис</td>\n",
       "      <td>Эрик Рот;  Уинстон Грум</td>\n",
       "      <td>Том Хэнкс; Робин Райт; Салли Филд; Гэри Синиз;...</td>\n",
       "      <td>'https://st.kp.yandex.net/images/film_iphone/i...</td>\n",
       "    </tr>\n",
       "    <tr>\n",
       "      <th>3</th>\n",
       "      <td>3</td>\n",
       "      <td>Список Шиндлера</td>\n",
       "      <td>1993</td>\n",
       "      <td>США</td>\n",
       "      <td>8.817</td>\n",
       "      <td>Фильм рассказывает реальную историю загадочног...</td>\n",
       "      <td>Стивен Спилберг</td>\n",
       "      <td>Стивен Зеллиан;  Томас Кенилли</td>\n",
       "      <td>Лиам Нисон; Бен Кингсли; Рэйф Файнс; Кэролайн ...</td>\n",
       "      <td>'https://st.kp.yandex.net/images/film_iphone/i...</td>\n",
       "    </tr>\n",
       "    <tr>\n",
       "      <th>4</th>\n",
       "      <td>4</td>\n",
       "      <td>1+1</td>\n",
       "      <td>2011</td>\n",
       "      <td>Франция</td>\n",
       "      <td>8.807</td>\n",
       "      <td>Пострадав в результате несчастного случая; бог...</td>\n",
       "      <td>Оливье Накаш;  Эрик Толедано</td>\n",
       "      <td>Оливье Накаш;  Филипп Поццо ди Борго;  Эрик Т...</td>\n",
       "      <td>Франсуа Клюзе; Омар Си; Анн Ле Ни; Одри Флеро;...</td>\n",
       "      <td>'https://st.kp.yandex.net/images/film_iphone/i...</td>\n",
       "    </tr>\n",
       "  </tbody>\n",
       "</table>\n",
       "</div>"
      ],
      "text/plain": [
       "   rating               movie  year  country  rating_ball  \\\n",
       "0       0  Побег из Шоушенка   1994      США        9.111   \n",
       "1       1       Зеленая миля   1999      США        9.062   \n",
       "2       2       Форрест Гамп   1994      США        8.913   \n",
       "3       3    Список Шиндлера   1993      США        8.817   \n",
       "4       4                1+1   2011  Франция        8.807   \n",
       "\n",
       "                                            overview  \\\n",
       "0  Бухгалтер Энди Дюфрейн обвинён в убийстве собс...   \n",
       "1  Пол Эджкомб — начальник блока смертников в тюр...   \n",
       "2  От лица главного героя Форреста Гампа; слабоум...   \n",
       "3  Фильм рассказывает реальную историю загадочног...   \n",
       "4  Пострадав в результате несчастного случая; бог...   \n",
       "\n",
       "                        director  \\\n",
       "0                 Фрэнк Дарабонт   \n",
       "1                 Фрэнк Дарабонт   \n",
       "2                 Роберт Земекис   \n",
       "3                Стивен Спилберг   \n",
       "4   Оливье Накаш;  Эрик Толедано   \n",
       "\n",
       "                                        screenwriter  \\\n",
       "0                       Фрэнк Дарабонт;  Стивен Кинг   \n",
       "1                       Фрэнк Дарабонт;  Стивен Кинг   \n",
       "2                            Эрик Рот;  Уинстон Грум   \n",
       "3                     Стивен Зеллиан;  Томас Кенилли   \n",
       "4   Оливье Накаш;  Филипп Поццо ди Борго;  Эрик Т...   \n",
       "\n",
       "                                              actors  \\\n",
       "0  Тим Роббинс; Морган Фриман; Боб Гантон; Уильям...   \n",
       "1  Том Хэнкс; Дэвид Морс; Бонни Хант; Майкл Кларк...   \n",
       "2  Том Хэнкс; Робин Райт; Салли Филд; Гэри Синиз;...   \n",
       "3  Лиам Нисон; Бен Кингсли; Рэйф Файнс; Кэролайн ...   \n",
       "4  Франсуа Клюзе; Омар Си; Анн Ле Ни; Одри Флеро;...   \n",
       "\n",
       "                                            url_logo  \n",
       "0  'https://st.kp.yandex.net/images/film_iphone/i...  \n",
       "1  'https://st.kp.yandex.net/images/film_iphone/i...  \n",
       "2  'https://st.kp.yandex.net/images/film_iphone/i...  \n",
       "3  'https://st.kp.yandex.net/images/film_iphone/i...  \n",
       "4  'https://st.kp.yandex.net/images/film_iphone/i...  "
      ]
     },
     "execution_count": 2,
     "metadata": {},
     "output_type": "execute_result"
    }
   ],
   "source": [
    "#films = pd.read_csv('https://raw.githubusercontent.com/AlekSan81/Studies/main/ML/data/kinopoisk-top250.csv')\n",
    "films = pd.read_csv('D:/Google Drive/GitHub/Studies/ML/data/kinopoisk-top250.csv')\n",
    "films.head()"
   ]
  },
  {
   "cell_type": "code",
   "execution_count": 3,
   "metadata": {
    "colab": {
     "base_uri": "https://localhost:8080/"
    },
    "executionInfo": {
     "elapsed": 274,
     "status": "ok",
     "timestamp": 1641452739702,
     "user": {
      "displayName": "Aleksey Sannikov",
      "photoUrl": "https://lh3.googleusercontent.com/a-/AOh14GheLDxhk3CmqcIYQJNZZe4j7vUnWWW1MlocbT9w=s64",
      "userId": "03451817862635539744"
     },
     "user_tz": -240
    },
    "id": "hp5NWPZpNO92",
    "outputId": "3eac7318-3d81-4b21-97b7-44174f75c5ff"
   },
   "outputs": [
    {
     "name": "stdout",
     "output_type": "stream",
     "text": [
      "<class 'pandas.core.frame.DataFrame'>\n",
      "RangeIndex: 250 entries, 0 to 249\n",
      "Data columns (total 10 columns):\n",
      " #   Column        Non-Null Count  Dtype  \n",
      "---  ------        --------------  -----  \n",
      " 0   rating        250 non-null    int64  \n",
      " 1   movie         250 non-null    object \n",
      " 2   year          250 non-null    int64  \n",
      " 3   country       250 non-null    object \n",
      " 4   rating_ball   250 non-null    float64\n",
      " 5   overview      250 non-null    object \n",
      " 6   director      250 non-null    object \n",
      " 7   screenwriter  250 non-null    object \n",
      " 8   actors        250 non-null    object \n",
      " 9   url_logo      250 non-null    object \n",
      "dtypes: float64(1), int64(2), object(7)\n",
      "memory usage: 19.7+ KB\n"
     ]
    }
   ],
   "source": [
    "films.info()"
   ]
  },
  {
   "cell_type": "code",
   "execution_count": 4,
   "metadata": {
    "colab": {
     "base_uri": "https://localhost:8080/"
    },
    "executionInfo": {
     "elapsed": 289,
     "status": "ok",
     "timestamp": 1641452790070,
     "user": {
      "displayName": "Aleksey Sannikov",
      "photoUrl": "https://lh3.googleusercontent.com/a-/AOh14GheLDxhk3CmqcIYQJNZZe4j7vUnWWW1MlocbT9w=s64",
      "userId": "03451817862635539744"
     },
     "user_tz": -240
    },
    "id": "bFnVUxrzNang",
    "outputId": "f766aebd-8a07-4f96-8974-fab353fc9f28"
   },
   "outputs": [
    {
     "data": {
      "text/plain": [
       "0      Бухгалтер Энди Дюфрейн обвинён в убийстве собс...\n",
       "1      Пол Эджкомб — начальник блока смертников в тюр...\n",
       "2      От лица главного героя Форреста Гампа; слабоум...\n",
       "3      Фильм рассказывает реальную историю загадочног...\n",
       "4      Пострадав в результате несчастного случая; бог...\n",
       "                             ...                        \n",
       "245    Тед Крамер; целиком посвятив себя карьере; не ...\n",
       "246    Новые приключения Джека Воробья и его друзей У...\n",
       "247    Флера — шестнадцатилетний мальчишка; откопавши...\n",
       "248    Убить президента африканской республики. Такое...\n",
       "249    Двое бывших политзаключённых; недавно вышедших...\n",
       "Name: overview, Length: 250, dtype: object"
      ]
     },
     "execution_count": 4,
     "metadata": {},
     "output_type": "execute_result"
    }
   ],
   "source": [
    "films['overview']"
   ]
  },
  {
   "cell_type": "code",
   "execution_count": 5,
   "metadata": {
    "colab": {
     "base_uri": "https://localhost:8080/",
     "height": 72
    },
    "executionInfo": {
     "elapsed": 265,
     "status": "ok",
     "timestamp": 1641452820515,
     "user": {
      "displayName": "Aleksey Sannikov",
      "photoUrl": "https://lh3.googleusercontent.com/a-/AOh14GheLDxhk3CmqcIYQJNZZe4j7vUnWWW1MlocbT9w=s64",
      "userId": "03451817862635539744"
     },
     "user_tz": -240
    },
    "id": "RNLCCQY6Nj0I",
    "outputId": "b28cb5d7-df31-46e7-ae4f-f7f16a38476b"
   },
   "outputs": [
    {
     "data": {
      "text/plain": [
       "'Пол Эджкомб\\xa0—\\xa0начальник блока смертников в\\xa0тюрьме «Холодная гора»; каждый из\\xa0узников которого однажды проходит «зеленую милю» по\\xa0пути к\\xa0месту казни. Пол\\xa0повидал много заключённых и\\xa0надзирателей за\\xa0время работы. Однако гигант Джон Коффи; обвинённый в\\xa0страшном преступлении; стал одним из\\xa0самых необычных обитателей блока.'"
      ]
     },
     "execution_count": 5,
     "metadata": {},
     "output_type": "execute_result"
    }
   ],
   "source": [
    "films['overview'][1]"
   ]
  },
  {
   "cell_type": "code",
   "execution_count": 6,
   "metadata": {
    "executionInfo": {
     "elapsed": 260,
     "status": "ok",
     "timestamp": 1641453034099,
     "user": {
      "displayName": "Aleksey Sannikov",
      "photoUrl": "https://lh3.googleusercontent.com/a-/AOh14GheLDxhk3CmqcIYQJNZZe4j7vUnWWW1MlocbT9w=s64",
      "userId": "03451817862635539744"
     },
     "user_tz": -240
    },
    "id": "BtkgcIqlOGIZ"
   },
   "outputs": [],
   "source": [
    "def count_words(x):\n",
    "    return len(x.split())\n",
    "\n",
    "count_words = lambda x: len(x.split())"
   ]
  },
  {
   "cell_type": "code",
   "execution_count": 7,
   "metadata": {
    "executionInfo": {
     "elapsed": 272,
     "status": "ok",
     "timestamp": 1641453687480,
     "user": {
      "displayName": "Aleksey Sannikov",
      "photoUrl": "https://lh3.googleusercontent.com/a-/AOh14GheLDxhk3CmqcIYQJNZZe4j7vUnWWW1MlocbT9w=s64",
      "userId": "03451817862635539744"
     },
     "user_tz": -240
    },
    "id": "PYm1qg8tOZfo"
   },
   "outputs": [],
   "source": [
    "films['count_words'] = films['overview'].apply(count_words)"
   ]
  },
  {
   "cell_type": "code",
   "execution_count": 8,
   "metadata": {
    "colab": {
     "base_uri": "https://localhost:8080/"
    },
    "executionInfo": {
     "elapsed": 260,
     "status": "ok",
     "timestamp": 1641453810698,
     "user": {
      "displayName": "Aleksey Sannikov",
      "photoUrl": "https://lh3.googleusercontent.com/a-/AOh14GheLDxhk3CmqcIYQJNZZe4j7vUnWWW1MlocbT9w=s64",
      "userId": "03451817862635539744"
     },
     "user_tz": -240
    },
    "id": "NrVAZAviRDDD",
    "outputId": "c2c85dff-3ef0-4181-95dc-353692867809"
   },
   "outputs": [
    {
     "data": {
      "text/plain": [
       "64.152"
      ]
     },
     "execution_count": 8,
     "metadata": {},
     "output_type": "execute_result"
    }
   ],
   "source": [
    "films['count_words'].mean()"
   ]
  },
  {
   "cell_type": "code",
   "execution_count": 9,
   "metadata": {
    "colab": {
     "base_uri": "https://localhost:8080/",
     "height": 265
    },
    "executionInfo": {
     "elapsed": 314,
     "status": "ok",
     "timestamp": 1641454701800,
     "user": {
      "displayName": "Aleksey Sannikov",
      "photoUrl": "https://lh3.googleusercontent.com/a-/AOh14GheLDxhk3CmqcIYQJNZZe4j7vUnWWW1MlocbT9w=s64",
      "userId": "03451817862635539744"
     },
     "user_tz": -240
    },
    "id": "UiFjAJeMQ9tS",
    "outputId": "f7cf4bae-4456-4209-8e88-a203a10c7d38"
   },
   "outputs": [
    {
     "data": {
      "image/png": "[encoded data removed]",
      "text/plain": [
       "<Figure size 432x288 with 1 Axes>"
      ]
     },
     "metadata": {
      "needs_background": "light"
     },
     "output_type": "display_data"
    }
   ],
   "source": [
    "bins = np.arange(films['count_words'].min(), films['count_words'].max(), 5)\n",
    "plt.hist(films['count_words'], bins=bins)\n",
    "plt.show()"
   ]
  },
  {
   "cell_type": "code",
   "execution_count": 10,
   "metadata": {
    "colab": {
     "base_uri": "https://localhost:8080/",
     "height": 265
    },
    "executionInfo": {
     "elapsed": 294,
     "status": "ok",
     "timestamp": 1641454914656,
     "user": {
      "displayName": "Aleksey Sannikov",
      "photoUrl": "https://lh3.googleusercontent.com/a-/AOh14GheLDxhk3CmqcIYQJNZZe4j7vUnWWW1MlocbT9w=s64",
      "userId": "03451817862635539744"
     },
     "user_tz": -240
    },
    "id": "Te4RjRYVU5VI",
    "outputId": "7e3e769b-62e2-4f39-d3a0-278a5868654f"
   },
   "outputs": [
    {
     "data": {
      "image/png": "[encoded data removed]",
      "text/plain": [
       "<Figure size 432x288 with 1 Axes>"
      ]
     },
     "metadata": {
      "needs_background": "light"
     },
     "output_type": "display_data"
    }
   ],
   "source": [
    "plt.hist(films['rating_ball'], bins=50)\n",
    "plt.show()"
   ]
  },
  {
   "cell_type": "markdown",
   "metadata": {},
   "source": [
    "## Tokenization"
   ]
  },
  {
   "cell_type": "code",
   "execution_count": 11,
   "metadata": {
    "executionInfo": {
     "elapsed": 1415,
     "status": "ok",
     "timestamp": 1641464185595,
     "user": {
      "displayName": "Aleksey Sannikov",
      "photoUrl": "https://lh3.googleusercontent.com/a-/AOh14GheLDxhk3CmqcIYQJNZZe4j7vUnWWW1MlocbT9w=s64",
      "userId": "03451817862635539744"
     },
     "user_tz": -240
    },
    "id": "0h2ZzkGI44th",
    "tags": []
   },
   "outputs": [],
   "source": [
    "import nltk"
   ]
  },
  {
   "cell_type": "markdown",
   "metadata": {
    "colab": {
     "base_uri": "https://localhost:8080/"
    },
    "executionInfo": {
     "elapsed": 60635,
     "status": "ok",
     "timestamp": 1641464369547,
     "user": {
      "displayName": "Aleksey Sannikov",
      "photoUrl": "https://lh3.googleusercontent.com/a-/AOh14GheLDxhk3CmqcIYQJNZZe4j7vUnWWW1MlocbT9w=s64",
      "userId": "03451817862635539744"
     },
     "user_tz": -240
    },
    "id": "6QGDR99947ve",
    "outputId": "eccbc4b9-412b-472c-b592-cac600e19082",
    "tags": []
   },
   "source": [
    "nltk.download('all')\n",
    "nltk.download('punkt')\n",
    "nltk.download('stopwords')"
   ]
  },
  {
   "cell_type": "code",
   "execution_count": 19,
   "metadata": {},
   "outputs": [],
   "source": [
    "from nltk.tokenize import word_tokenize, sent_tokenize"
   ]
  },
  {
   "cell_type": "code",
   "execution_count": null,
   "metadata": {},
   "outputs": [],
   "source": [
    "text = '''\n",
    "Он благополучно избегнул встречи с своею хозяйкой на лестнице. Каморка его приходилась под самою кровлей высокого пятиэтажного дома и походила более на шкаф, чем на квартиру. Квартирная же хозяйка его, у которой он нанимал эту каморку с обедом и прислугой, помещалась одною лестницей ниже, в отдельной квартире, и каждый раз, при выходе на улицу, ему непременно надо было проходить мимо хозяйкиной кухни, почти всегда настежь отворенной на лестницу. И каждый раз молодой человек, проходя мимо, чувствовал какое-то болезненное и трусливое ощущение, которого стыдился и от которого морщился. Он был должен кругом хозяйке и боялся с нею встретиться.\n",
    "'''"
   ]
  },
  {
   "cell_type": "markdown",
   "metadata": {},
   "source": [
    "Splitting the text on different sentences"
   ]
  },
  {
   "cell_type": "code",
   "execution_count": null,
   "metadata": {},
   "outputs": [],
   "source": [
    "sentences = sent_tokenize(text)\n",
    "len(sentences)"
   ]
  },
  {
   "cell_type": "markdown",
   "metadata": {},
   "source": [
    "Splitting the text on different words"
   ]
  },
  {
   "cell_type": "code",
   "execution_count": null,
   "metadata": {
    "tags": []
   },
   "outputs": [],
   "source": [
    "tokens = word_tokenize(text)\n",
    "tokens"
   ]
  },
  {
   "cell_type": "markdown",
   "metadata": {},
   "source": [
    "## Stemming"
   ]
  },
  {
   "cell_type": "markdown",
   "metadata": {},
   "source": [
    "English stemmer"
   ]
  },
  {
   "cell_type": "code",
   "execution_count": 15,
   "metadata": {},
   "outputs": [],
   "source": [
    "from nltk.stem import PorterStemmer"
   ]
  },
  {
   "cell_type": "code",
   "execution_count": 16,
   "metadata": {},
   "outputs": [],
   "source": [
    "en_sentence = '''\n",
    "Anaconda Navigator is a desktop graphical user interface (GUI) included in Anaconda® distribution that allows you to launch applications and easily manage conda packages, environments, and channels without using command-line commands. Navigator can search for packages on Anaconda.org or in a local Anaconda Repository. It is available for Windows, macOS, and Linux.\n",
    "'''"
   ]
  },
  {
   "cell_type": "code",
   "execution_count": 20,
   "metadata": {
    "collapsed": true,
    "jupyter": {
     "outputs_hidden": true
    },
    "tags": []
   },
   "outputs": [
    {
     "name": "stdout",
     "output_type": "stream",
     "text": [
      "Anaconda : anaconda\n",
      "Navigator : navig\n",
      "is : is\n",
      "a : a\n",
      "desktop : desktop\n",
      "graphical : graphic\n",
      "user : user\n",
      "interface : interfac\n",
      "( : (\n",
      "GUI : gui\n",
      ") : )\n",
      "included : includ\n",
      "in : in\n",
      "Anaconda® : anaconda®\n",
      "distribution : distribut\n",
      "that : that\n",
      "allows : allow\n",
      "you : you\n",
      "to : to\n",
      "launch : launch\n",
      "applications : applic\n",
      "and : and\n",
      "easily : easili\n",
      "manage : manag\n",
      "conda : conda\n",
      "packages : packag\n",
      ", : ,\n",
      "environments : environ\n",
      ", : ,\n",
      "and : and\n",
      "channels : channel\n",
      "without : without\n",
      "using : use\n",
      "command-line : command-lin\n",
      "commands : command\n",
      ". : .\n",
      "Navigator : navig\n",
      "can : can\n",
      "search : search\n",
      "for : for\n",
      "packages : packag\n",
      "on : on\n",
      "Anaconda.org : anaconda.org\n",
      "or : or\n",
      "in : in\n",
      "a : a\n",
      "local : local\n",
      "Anaconda : anaconda\n",
      "Repository : repositori\n",
      ". : .\n",
      "It : it\n",
      "is : is\n",
      "available : avail\n",
      "for : for\n",
      "Windows : window\n",
      ", : ,\n",
      "macOS : maco\n",
      ", : ,\n",
      "and : and\n",
      "Linux : linux\n",
      ". : .\n"
     ]
    }
   ],
   "source": [
    "stemmer = PorterStemmer()\n",
    "\n",
    "words = word_tokenize(en_sentence)\n",
    "\n",
    "for word in words:\n",
    "    print(f'{word} : {stemmer.stem(word)}')"
   ]
  },
  {
   "cell_type": "markdown",
   "metadata": {},
   "source": [
    "Russian stemmer"
   ]
  },
  {
   "cell_type": "code",
   "execution_count": 21,
   "metadata": {},
   "outputs": [],
   "source": [
    "from nltk.stem.snowball import SnowballStemmer"
   ]
  },
  {
   "cell_type": "code",
   "execution_count": 22,
   "metadata": {},
   "outputs": [
    {
     "name": "stdout",
     "output_type": "stream",
     "text": [
      "Каморка : каморк\n",
      "его : ег\n",
      "приходилась : приход\n",
      "под : под\n",
      "самою : сам\n",
      "кровлей : кровл\n",
      "высокого : высок\n",
      "пятиэтажного : пятиэтажн\n",
      "дома : дом\n",
      "и : и\n",
      "походила : поход\n",
      "более : бол\n",
      "на : на\n",
      "шкаф : шкаф\n",
      ", : ,\n",
      "чем : чем\n",
      "на : на\n",
      "квартиру : квартир\n",
      ". : .\n"
     ]
    }
   ],
   "source": [
    "stemmer = SnowballStemmer('russian')\n",
    "\n",
    "ru_sentence = '''\n",
    "Каморка его приходилась под самою кровлей высокого пятиэтажного дома и походила более на шкаф, чем на квартиру.\n",
    "'''\n",
    "\n",
    "for word in word_tokenize(ru_sentence):\n",
    "    print(f'{word} : {stemmer.stem(word)}')"
   ]
  },
  {
   "cell_type": "markdown",
   "metadata": {},
   "source": [
    "## Lemmatization"
   ]
  },
  {
   "cell_type": "markdown",
   "metadata": {},
   "source": [
    "English lemmatization"
   ]
  },
  {
   "cell_type": "code",
   "execution_count": 23,
   "metadata": {},
   "outputs": [],
   "source": [
    "from nltk.stem import WordNetLemmatizer"
   ]
  },
  {
   "cell_type": "code",
   "execution_count": 25,
   "metadata": {},
   "outputs": [
    {
     "name": "stderr",
     "output_type": "stream",
     "text": [
      "[nltk_data] Error loading wordnet: <urlopen error [Errno 11001]\n",
      "[nltk_data]     getaddrinfo failed>\n"
     ]
    },
    {
     "data": {
      "text/plain": [
       "False"
      ]
     },
     "execution_count": 25,
     "metadata": {},
     "output_type": "execute_result"
    }
   ],
   "source": [
    "nltk.download('wordnet')"
   ]
  },
  {
   "cell_type": "code",
   "execution_count": 27,
   "metadata": {},
   "outputs": [
    {
     "name": "stdout",
     "output_type": "stream",
     "text": [
      "Anaconda : Anaconda\n",
      "Navigator : Navigator\n",
      "is : is\n",
      "a : a\n",
      "desktop : desktop\n",
      "graphical : graphical\n",
      "user : user\n",
      "interface : interface\n",
      "( : (\n",
      "GUI : GUI\n",
      ") : )\n",
      "included : included\n",
      "in : in\n",
      "Anaconda® : Anaconda®\n",
      "distribution : distribution\n",
      "that : that\n",
      "allows : allows\n",
      "you : you\n",
      "to : to\n",
      "launch : launch\n",
      "applications : application\n",
      "and : and\n",
      "easily : easily\n",
      "manage : manage\n",
      "conda : conda\n",
      "packages : package\n",
      ", : ,\n",
      "environments : environment\n",
      ", : ,\n",
      "and : and\n",
      "channels : channel\n",
      "without : without\n",
      "using : using\n",
      "command-line : command-line\n",
      "commands : command\n",
      ". : .\n"
     ]
    }
   ],
   "source": [
    "lemmatizer = WordNetLemmatizer()\n",
    "\n",
    "en_sentence = '''\n",
    "Anaconda Navigator is a desktop graphical user interface (GUI) included in Anaconda® distribution that allows you to launch applications and easily manage conda packages, environments, and channels without using command-line commands.\n",
    "'''\n",
    "\n",
    "for word in word_tokenize(en_sentence):\n",
    "    print(f'{word} : {lemmatizer.lemmatize(word)}')"
   ]
  },
  {
   "cell_type": "markdown",
   "metadata": {},
   "source": [
    "Russian lemmatization"
   ]
  },
  {
   "cell_type": "code",
   "execution_count": 28,
   "metadata": {},
   "outputs": [
    {
     "ename": "ModuleNotFoundError",
     "evalue": "No module named 'pymorphy2'",
     "output_type": "error",
     "traceback": [
      "\u001b[1;31m---------------------------------------------------------------------------\u001b[0m",
      "\u001b[1;31mModuleNotFoundError\u001b[0m                       Traceback (most recent call last)",
      "\u001b[1;32m~\\AppData\\Local\\Temp/ipykernel_17416/2807218592.py\u001b[0m in \u001b[0;36m<module>\u001b[1;34m\u001b[0m\n\u001b[1;32m----> 1\u001b[1;33m \u001b[1;32mfrom\u001b[0m \u001b[0mpymorphy2\u001b[0m \u001b[1;32mimport\u001b[0m \u001b[0mMorphAnalyzer\u001b[0m\u001b[1;33m\u001b[0m\u001b[1;33m\u001b[0m\u001b[0m\n\u001b[0m",
      "\u001b[1;31mModuleNotFoundError\u001b[0m: No module named 'pymorphy2'"
     ]
    }
   ],
   "source": [
    "from pymorphy2 import MorphAnalyzer"
   ]
  },
  {
   "cell_type": "code",
   "execution_count": null,
   "metadata": {},
   "outputs": [],
   "source": []
  }
 ],
 "metadata": {
  "colab": {
   "authorship_tag": "ABX9TyPW0h8XYHvYvgYEBW0vTxqT",
   "collapsed_sections": [],
   "name": "NLP.ipynb",
   "provenance": []
  },
  "kernelspec": {
   "display_name": "Python 3 (ipykernel)",
   "language": "python",
   "name": "python3"
  },
  "language_info": {
   "codemirror_mode": {
    "name": "ipython",
    "version": 3
   },
   "file_extension": ".py",
   "mimetype": "text/x-python",
   "name": "python",
   "nbconvert_exporter": "python",
   "pygments_lexer": "ipython3",
   "version": "3.8.12"
  }
 },
 "nbformat": 4,
 "nbformat_minor": 4
}
