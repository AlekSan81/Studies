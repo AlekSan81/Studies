{
 "cells": [
  {
   "cell_type": "code",
   "execution_count": 6,
   "metadata": {
    "executionInfo": {
     "elapsed": 264,
     "status": "ok",
     "timestamp": 1640411083814,
     "user": {
      "displayName": "Aleksey Sannikov",
      "photoUrl": "https://lh3.googleusercontent.com/a-/AOh14GheLDxhk3CmqcIYQJNZZe4j7vUnWWW1MlocbT9w=s64",
      "userId": "03451817862635539744"
     },
     "user_tz": -240
    },
    "id": "Iwa3FUhyxYAv"
   },
   "outputs": [],
   "source": [
    " from scipy.stats import binom\n",
    " import math"
   ]
  },
  {
   "cell_type": "code",
   "execution_count": 38,
   "metadata": {
    "colab": {
     "base_uri": "https://localhost:8080/"
    },
    "executionInfo": {
     "elapsed": 288,
     "status": "ok",
     "timestamp": 1640419916867,
     "user": {
      "displayName": "Aleksey Sannikov",
      "photoUrl": "https://lh3.googleusercontent.com/a-/AOh14GheLDxhk3CmqcIYQJNZZe4j7vUnWWW1MlocbT9w=s64",
      "userId": "03451817862635539744"
     },
     "user_tz": -240
    },
    "id": "FKErquSPcVmi",
    "outputId": "9b81bb8b-b66d-4f73-8e2f-5f9b8364577c"
   },
   "outputs": [
    {
     "data": {
      "text/plain": [
       "0.6339676587267705"
      ]
     },
     "execution_count": 38,
     "metadata": {},
     "output_type": "execute_result"
    }
   ],
   "source": [
    "1 - binom.pmf(0, 100, 0.01)"
   ]
  },
  {
   "cell_type": "code",
   "execution_count": 33,
   "metadata": {
    "colab": {
     "base_uri": "https://localhost:8080/"
    },
    "executionInfo": {
     "elapsed": 331,
     "status": "ok",
     "timestamp": 1640418131706,
     "user": {
      "displayName": "Aleksey Sannikov",
      "photoUrl": "https://lh3.googleusercontent.com/a-/AOh14GheLDxhk3CmqcIYQJNZZe4j7vUnWWW1MlocbT9w=s64",
      "userId": "03451817862635539744"
     },
     "user_tz": -240
    },
    "id": "0hWZJZeXF0jg",
    "outputId": "87faf337-ae9b-416f-abbb-e65563135702"
   },
   "outputs": [
    {
     "data": {
      "text/plain": [
       "0.41977508298185184"
      ]
     },
     "execution_count": 33,
     "metadata": {},
     "output_type": "execute_result"
    }
   ],
   "source": [
    "sum(binom.pmf(range(0,3), 100, 0.03))"
   ]
  },
  {
   "cell_type": "code",
   "execution_count": 23,
   "metadata": {
    "colab": {
     "base_uri": "https://localhost:8080/"
    },
    "executionInfo": {
     "elapsed": 308,
     "status": "ok",
     "timestamp": 1640413631501,
     "user": {
      "displayName": "Aleksey Sannikov",
      "photoUrl": "https://lh3.googleusercontent.com/a-/AOh14GheLDxhk3CmqcIYQJNZZe4j7vUnWWW1MlocbT9w=s64",
      "userId": "03451817862635539744"
     },
     "user_tz": -240
    },
    "id": "FXAgzp3vRPmb",
    "outputId": "498c0211-dc97-493d-9cb1-783d72970c49"
   },
   "outputs": [
    {
     "data": {
      "text/plain": [
       "0.06535947783048957"
      ]
     },
     "execution_count": 23,
     "metadata": {},
     "output_type": "execute_result"
    }
   ],
   "source": [
    "1 - sum(binom.pmf([0, 1, 2, 3], 500, 0.003))"
   ]
  },
  {
   "cell_type": "code",
   "execution_count": 40,
   "metadata": {
    "colab": {
     "base_uri": "https://localhost:8080/"
    },
    "executionInfo": {
     "elapsed": 278,
     "status": "ok",
     "timestamp": 1640419948701,
     "user": {
      "displayName": "Aleksey Sannikov",
      "photoUrl": "https://lh3.googleusercontent.com/a-/AOh14GheLDxhk3CmqcIYQJNZZe4j7vUnWWW1MlocbT9w=s64",
      "userId": "03451817862635539744"
     },
     "user_tz": -240
    },
    "id": "SzT0r-ZgHSwv",
    "outputId": "67e9fd99-0c90-407b-cc8a-a5ef4afb295c"
   },
   "outputs": [
    {
     "data": {
      "text/plain": [
       "0.6321205588285577"
      ]
     },
     "execution_count": 40,
     "metadata": {},
     "output_type": "execute_result"
    }
   ],
   "source": [
    "1 - [(1**i / (math.factorial(i) * math.exp(1))) for i in range(1)][0]"
   ]
  },
  {
   "cell_type": "code",
   "execution_count": 18,
   "metadata": {
    "colab": {
     "base_uri": "https://localhost:8080/"
    },
    "executionInfo": {
     "elapsed": 307,
     "status": "ok",
     "timestamp": 1640412737451,
     "user": {
      "displayName": "Aleksey Sannikov",
      "photoUrl": "https://lh3.googleusercontent.com/a-/AOh14GheLDxhk3CmqcIYQJNZZe4j7vUnWWW1MlocbT9w=s64",
      "userId": "03451817862635539744"
     },
     "user_tz": -240
    },
    "id": "-0U9Te9jNv2D",
    "outputId": "930a8db5-eaf0-4de1-dc82-fdfe0f6d371f"
   },
   "outputs": [
    {
     "data": {
      "text/plain": [
       "0.1255104089965861"
      ]
     },
     "execution_count": 18,
     "metadata": {},
     "output_type": "execute_result"
    }
   ],
   "source": [
    "3.375 / (6 * 4.4817)"
   ]
  }
 ],
 "metadata": {
  "colab": {
   "authorship_tag": "ABX9TyPR6F8ABTlpQ/XIl/XS/YJz",
   "name": "Clustering.ipynb",
   "provenance": []
  },
  "kernelspec": {
   "display_name": "Python 3 (ipykernel)",
   "language": "python",
   "name": "python3"
  },
  "language_info": {
   "codemirror_mode": {
    "name": "ipython",
    "version": 3
   },
   "file_extension": ".py",
   "mimetype": "text/x-python",
   "name": "python",
   "nbconvert_exporter": "python",
   "pygments_lexer": "ipython3",
   "version": "3.8.12"
  }
 },
 "nbformat": 4,
 "nbformat_minor": 4
}
