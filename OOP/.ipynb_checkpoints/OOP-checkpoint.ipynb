{
 "cells": [
  {
   "cell_type": "markdown",
   "id": "2400fc00-30d1-451b-9924-15e6eb370b5f",
   "metadata": {},
   "source": [
    "## 2. Methods, self parameter, constructor and destructor\n",
    "https://www.youtube.com/watch?v=7kk2gRf8Uws&list=RDCMUClJzWfGWuGJL2t-3dYKcHTA&index=5"
   ]
  },
  {
   "cell_type": "code",
   "execution_count": 76,
   "id": "07bc9b22-2bef-40af-bff4-960f6f9f81c0",
   "metadata": {},
   "outputs": [
    {
     "name": "stdout",
     "output_type": "stream",
     "text": [
      "['__class__', '__del__', '__delattr__', '__dict__', '__dir__', '__doc__', '__eq__', '__format__', '__ge__', '__getattribute__', '__gt__', '__hash__', '__init__', '__init_subclass__', '__le__', '__lt__', '__module__', '__ne__', '__new__', '__reduce__', '__reduce_ex__', '__repr__', '__setattr__', '__sizeof__', '__str__', '__subclasshook__', '__weakref__', 'setCoords', 'x', 'y']\n",
      "Point\n",
      "Deleting the instance: <__main__.Point object at 0x00000246D8EB8EF0>\n",
      "{'z': 9, 'q': 345, 'a': 54, 'b': 24}\n",
      "1\n",
      "<__main__.Point object at 0x00000246D9074C18>\n"
     ]
    },
    {
     "data": {
      "text/plain": [
       "1"
      ]
     },
     "execution_count": 76,
     "metadata": {},
     "output_type": "execute_result"
    }
   ],
   "source": [
    "class Point:\n",
    "    '''\n",
    "    Creating a test class.\n",
    "    '''\n",
    "    x = 1\n",
    "    y = 3\n",
    "    \n",
    "    def __init__(self, z=9):\n",
    "        self.z = z\n",
    "        \n",
    "    def __del__(self):\n",
    "        print('Deleting the instance: ' + self.__str__())\n",
    "    \n",
    "    def setCoords(self, x, y):\n",
    "        self.a = x\n",
    "        self.b = y\n",
    "    \n",
    "print(dir(Point))\n",
    "print(Point.__name__)\n",
    "    \n",
    "pt = Point()\n",
    "pt.q = 345\n",
    "pt.setCoords(54, 24)\n",
    "print(pt.__dict__)\n",
    "print(pt.x)\n",
    "print(pt.__str__())\n",
    "pt.x"
   ]
  },
  {
   "cell_type": "markdown",
   "id": "1e77f51c-8e67-4c7f-8ce8-6f1df4697a37",
   "metadata": {},
   "source": [
    "### Test assignment"
   ]
  },
  {
   "cell_type": "markdown",
   "id": "891ef904-b3cc-491d-9f04-09439277c22d",
   "metadata": {},
   "source": [
    "Создать класс, который хранит координаты в виде списка. Прописать у него конструктор для создания экземпляров с локальными координатами. Также добавьте методы, позволяющие изменять координаты и получать их (в виде кортежа)."
   ]
  },
  {
   "cell_type": "code",
   "execution_count": 5,
   "id": "12220a16-f0d4-468d-adaf-615e95e7db40",
   "metadata": {},
   "outputs": [
    {
     "name": "stdout",
     "output_type": "stream",
     "text": [
      "<class 'tuple'>\n"
     ]
    },
    {
     "data": {
      "text/plain": [
       "(43, 6, 23)"
      ]
     },
     "execution_count": 5,
     "metadata": {},
     "output_type": "execute_result"
    }
   ],
   "source": [
    "class P3:\n",
    "    \n",
    "    def __init__(self, x=0, y=0, z=0):\n",
    "        self.x = x\n",
    "        self.y = y\n",
    "        self.z = z\n",
    "        \n",
    "    def setCoords(self, x, y, z):\n",
    "        self.x = x\n",
    "        self.y = y\n",
    "        self.z = z\n",
    "        \n",
    "    def getCoords(self):\n",
    "        temp = (self.x, self.y, self.z)\n",
    "        print(type(temp))\n",
    "        return temp\n",
    "        \n",
    "pt3 = P3(43, 6,23)\n",
    "pt3.getCoords()"
   ]
  },
  {
   "cell_type": "markdown",
   "id": "e2f21e4f-9997-4fc2-ada7-ea7eebf72fec",
   "metadata": {},
   "source": [
    "Обновить класс Point с конструктором, который бы позволял создавать экземпляр на основе другого, уже существующего. Если аргументы в конструктор не передаются, то создается объект с локальными атрибутами по умолчанию."
   ]
  },
  {
   "cell_type": "code",
   "execution_count": null,
   "id": "eb084c69-c23d-4b65-a609-26e4fdd4f34a",
   "metadata": {},
   "outputs": [],
   "source": [
    "class Point():\n",
    "    \n",
    "    def __init__(self, obj=None):\n",
    "        if obj:\n",
    "            self.x = obj.x\n",
    "            self.y = obj.y\n",
    "        else:\n",
    "            self.x = 0\n",
    "            self.y = 0"
   ]
  },
  {
   "cell_type": "markdown",
   "id": "2ca090b8-97e1-44d4-9c17-8bc4114c25e2",
   "metadata": {},
   "source": [
    "Написать программу, в которой пользователь вводит координаты x, y  с клавиатуры, создается соответствующий экземпляр и он сохраняется в списке. Количество вводимых объектов N=5. Затем, вывести их атрибуты."
   ]
  },
  {
   "cell_type": "code",
   "execution_count": 1,
   "id": "66329ba4-c303-4be3-a565-743f011a9e46",
   "metadata": {},
   "outputs": [
    {
     "name": "stdin",
     "output_type": "stream",
     "text": [
      "Введите x:  1\n",
      "Введите y:  2\n",
      "Введите x:  3\n",
      "Введите y:  4\n",
      "Введите x:  5\n",
      "Введите y:  6\n",
      "Введите x:  7\n",
      "Введите y:  8\n",
      "Введите x:  9\n",
      "Введите y:  0\n"
     ]
    },
    {
     "name": "stdout",
     "output_type": "stream",
     "text": [
      "<__main__.Point object at 0x00000221DE2FEE10>\n",
      "{'x': 1, 'y': 2}\n",
      "<__main__.Point object at 0x00000221DE2FE358>\n",
      "{'x': 3, 'y': 4}\n",
      "<__main__.Point object at 0x00000221DE2FE320>\n",
      "{'x': 5, 'y': 6}\n",
      "<__main__.Point object at 0x00000221DE2FECF8>\n",
      "{'x': 7, 'y': 8}\n",
      "<__main__.Point object at 0x00000221DE2FEB38>\n",
      "{'x': 9, 'y': 0}\n"
     ]
    }
   ],
   "source": [
    "class Point():\n",
    "    \n",
    "    def __init__(self, x=0, y=0):\n",
    "        self.x = x\n",
    "        self.y = y\n",
    "\n",
    "lst = []        \n",
    "        \n",
    "for i in range(5):\n",
    "    x, y = int(input('Введите x: ')), int(input('Введите y: '))\n",
    "    inst = Point(x, y)  # inst -> instance\n",
    "    lst.append(inst)\n",
    "    \n",
    "for inst in lst:\n",
    "    print(inst)\n",
    "    print(inst.__dict__)"
   ]
  },
  {
   "cell_type": "markdown",
   "id": "23746106-9b53-4161-bee8-529799150560",
   "metadata": {},
   "source": [
    "## 3. Incapsulation: public, private, protected. Getters and Setters.\n",
    "https://www.youtube.com/watch?v=WP2sqI2BkeY&t=552s"
   ]
  },
  {
   "cell_type": "code",
   "execution_count": 13,
   "id": "aadfd5c6-6c34-43c4-b602-5a090d5fcb89",
   "metadata": {},
   "outputs": [
    {
     "name": "stdout",
     "output_type": "stream",
     "text": [
      "1 2\n",
      "100 abc\n"
     ]
    }
   ],
   "source": [
    "class Point:\n",
    "    def __init__(self, x=0, y=0):\n",
    "        self.x = x; self.y = y\n",
    "        \n",
    "pt = Point(1, 2)\n",
    "print(pt.x, pt.y)\n",
    "pt.x = 100\n",
    "pt.y = 'abc'\n",
    "print(pt.x, pt.y)"
   ]
  },
  {
   "cell_type": "markdown",
   "id": "6a343e0d-f5f0-4faa-b622-4cdff3d38a12",
   "metadata": {},
   "source": [
    "x - public  \n",
    "\\_x - protected  \n",
    "__x - private"
   ]
  },
  {
   "cell_type": "code",
   "execution_count": 23,
   "id": "9a31279f-d54b-4f26-b53a-5e87b36e1e91",
   "metadata": {},
   "outputs": [
    {
     "name": "stdout",
     "output_type": "stream",
     "text": [
      "(1, 2)\n",
      "Coordinates have to be numeric\n",
      "(1, 2)\n",
      "(33, 44)\n",
      "{'_Point__x': 33, '_Point__y': 44}\n"
     ]
    }
   ],
   "source": [
    "class Point:\n",
    "    \n",
    "    def __init__(self, x=0, y=0):\n",
    "        self.__x = x; self.__y = y\n",
    "    \n",
    "    def __checkValue(x):\n",
    "    \n",
    "    # setter\n",
    "    def setCoords(self, x, y):\n",
    "        if (isinstance(x, int) or isinstance(x, float)) and \\\n",
    "        (isinstance(y, int) or isinstance(y, float)):\n",
    "            self.__x = x\n",
    "            self.__y = y\n",
    "        else:\n",
    "            print('Coordinates have to be numeric')\n",
    "        \n",
    "    # getter\n",
    "    def getCoords(self):\n",
    "        return self.__x, self.__y\n",
    "        \n",
    "pt = Point(1, 2)\n",
    "# print(pt.x) and print(pt.__x) doesn't work\n",
    "\n",
    "# setter and getter\n",
    "print(pt.getCoords())\n",
    "pt.setCoords(33, 'c')\n",
    "print(pt.getCoords())\n",
    "pt.setCoords(33, 44)\n",
    "print(pt.getCoords())\n",
    "print(pt.__dict__)"
   ]
  },
  {
   "cell_type": "code",
   "execution_count": 30,
   "id": "a6cf8c4e-dfd9-4813-801d-0a992292490b",
   "metadata": {},
   "outputs": [
    {
     "name": "stdout",
     "output_type": "stream",
     "text": [
      "('Private attribute', 2)\n",
      "Coordinates have to be numeric\n",
      "('Private attribute', 2)\n",
      "('Private attribute', 44)\n",
      "{'_Point__x': 33, '_Point__y': 44}\n",
      "Private attribute 44\n"
     ]
    }
   ],
   "source": [
    "class Point:\n",
    "    \n",
    "    def __init__(self, x=0, y=0):\n",
    "        self.__x = x; self.__y = y\n",
    "    \n",
    "    def __checkValue(x):\n",
    "        if (isinstance(x, (int, float))):\n",
    "            return True\n",
    "        return False\n",
    "        \n",
    "    # setter\n",
    "    def setCoords(self, x, y):\n",
    "        if Point.__checkValue(x) and Point.__checkValue(y):\n",
    "            self.__x = x\n",
    "            self.__y = y\n",
    "        else:\n",
    "            print('Coordinates have to be numeric')\n",
    "        \n",
    "    # getter\n",
    "    def getCoords(self):\n",
    "        return self.__x, self.__y\n",
    "    \n",
    "        \n",
    "pt = Point(1, 2)\n",
    "# print(pt.x) and print(pt.__x) doesn't work\n",
    "\n",
    "# setter and getter\n",
    "print(pt.getCoords())\n",
    "pt.setCoords(33, 'c')\n",
    "print(pt.getCoords())\n",
    "pt.setCoords(33, 44)\n",
    "print(pt.getCoords())\n",
    "\n",
    "print(pt.__dict__)\n",
    "print(pt._Point__x, pt._Point__y)"
   ]
  },
  {
   "cell_type": "code",
   "execution_count": 22,
   "id": "22e7e9da-ecdf-4097-a2fb-fead06b38442",
   "metadata": {
    "tags": []
   },
   "outputs": [
    {
     "name": "stdout",
     "output_type": "stream",
     "text": [
      "('Private attribute', 2)\n",
      "Coordinates have to be numeric\n",
      "('Private attribute', 2)\n",
      "('Private attribute', 44)\n",
      "{'_Point__x': 33, '_Point__y': 44}\n",
      "Private attribute 44\n",
      "Impossible to change the \"WIDTH\" attribute.\n",
      "9\n",
      "__getattr__: z\n",
      "None\n",
      "4\n",
      "__delattr__: z\n"
     ]
    },
    {
     "data": {
      "text/plain": [
       "4"
      ]
     },
     "execution_count": 22,
     "metadata": {},
     "output_type": "execute_result"
    }
   ],
   "source": [
    "class Point:\n",
    "    \n",
    "    WIDTH = 9   \n",
    "    \n",
    "    def __init__(self, x=0, y=0):\n",
    "        self.__x = x; self.__y = y\n",
    "    \n",
    "    def __checkValue(x):\n",
    "        if (isinstance(x, (int, float))):\n",
    "            return True\n",
    "        return False\n",
    "        \n",
    "    # setter\n",
    "    def setCoords(self, x, y):\n",
    "        if Point.__checkValue(x) and Point.__checkValue(y):\n",
    "            self.__x = x\n",
    "            self.__y = y\n",
    "        else:\n",
    "            print('Coordinates have to be numeric')\n",
    "        \n",
    "    # getter\n",
    "    def getCoords(self):\n",
    "        return self.__x, self.__y\n",
    "    \n",
    "    def __getattribute__(self, item):\n",
    "        if item == '_Point__x':\n",
    "            return 'Private attribute'\n",
    "        else:\n",
    "            return object.__getattribute__(self, item)\n",
    "        \n",
    "    def __setattr__(self, key, value):\n",
    "        if key == 'WIDTH':\n",
    "            # raise AttributeError\n",
    "            print(f'Impossible to change the \"{key}\" attribute.')\n",
    "        else:\n",
    "            self.__dict__[key] = value\n",
    "            \n",
    "    def __getattr__(self, item):\n",
    "        print('__getattr__: ' + item)\n",
    "        \n",
    "    def __delattr__(self, item):\n",
    "        print('__delattr__: ' + item)\n",
    "        \n",
    "        \n",
    "pt = Point(1, 2)\n",
    "# print(pt.x) and print(pt.__x) doesn't work\n",
    "\n",
    "# setter and getter\n",
    "print(pt.getCoords())\n",
    "pt.setCoords(33, 'c')\n",
    "print(pt.getCoords())\n",
    "pt.setCoords(33, 44)\n",
    "print(pt.getCoords())\n",
    "\n",
    "print(pt.__dict__)\n",
    "print(pt._Point__x, pt._Point__y)\n",
    "\n",
    "pt.WIDTH = 5\n",
    "print(pt.WIDTH)\n",
    "print(pt.z)\n",
    "pt.z = 4\n",
    "print(pt.z)\n",
    "del pt.z\n",
    "pt.z"
   ]
  },
  {
   "cell_type": "code",
   "execution_count": 33,
   "id": "5c63a0b9-f7aa-4d1d-b6ef-5847cd8e60f9",
   "metadata": {
    "tags": []
   },
   "outputs": [
    {
     "name": "stdout",
     "output_type": "stream",
     "text": [
      "(1, 2)\n",
      "Coordinates have to be numeric\n",
      "(1, 2)\n",
      "(33, 44)\n",
      "33 44\n",
      "9\n",
      "4\n"
     ]
    }
   ],
   "source": [
    "class Point:\n",
    "    \n",
    "    WIDTH = 9\n",
    "    __slots__ = ['__x', '__y', 'z']\n",
    "    \n",
    "    def __init__(self, x=0, y=0):\n",
    "        self.__x = x; self.__y = y\n",
    "    \n",
    "    def __checkValue(x):\n",
    "        if (isinstance(x, (int, float))):\n",
    "            return True\n",
    "        return False\n",
    "        \n",
    "    # setter\n",
    "    def setCoords(self, x, y):\n",
    "        if Point.__checkValue(x) and Point.__checkValue(y):\n",
    "            self.__x = x\n",
    "            self.__y = y\n",
    "        else:\n",
    "            print('Coordinates have to be numeric')\n",
    "        \n",
    "    # getter\n",
    "    def getCoords(self):\n",
    "        return self.__x, self.__y\n",
    "    \n",
    "    \n",
    "        \n",
    "        \n",
    "pt = Point(1, 2)\n",
    "# print(pt.x) and print(pt.__x) doesn't work\n",
    "\n",
    "# setter and getter\n",
    "print(pt.getCoords())\n",
    "pt.setCoords(33, 'c')\n",
    "print(pt.getCoords())\n",
    "pt.setCoords(33, 44)\n",
    "print(pt.getCoords())\n",
    "\n",
    "print(pt._Point__x, pt._Point__y)\n",
    "\n",
    "\n",
    "print(pt.WIDTH)\n",
    "\n",
    "pt.z = 4\n",
    "print(pt.z)\n",
    "del pt.z"
   ]
  },
  {
   "cell_type": "markdown",
   "id": "41090215-5098-458d-bd1e-f236b5914a47",
   "metadata": {},
   "source": [
    "## 4. Property objects and descriptors\n",
    "https://www.youtube.com/watch?v=zwel95I7O88"
   ]
  },
  {
   "cell_type": "code",
   "execution_count": 2,
   "id": "2c742d09-f48a-4c6e-8ada-18f7593c9e27",
   "metadata": {},
   "outputs": [
    {
     "name": "stdout",
     "output_type": "stream",
     "text": [
      "calling __getCoordX\n",
      "100\n",
      "Deleting the property\n"
     ]
    }
   ],
   "source": [
    "class Point:\n",
    "    def __init__(self, x=0, y=0):\n",
    "        self.__x = x\n",
    "        self.__y = y\n",
    "        \n",
    "    def __checkValue(x):\n",
    "        if isinstance(x, (int, float)):\n",
    "            return True\n",
    "        return False\n",
    "    \n",
    "    def __getCoordX(self):\n",
    "        print('calling __getCoordX')\n",
    "        return self.__x\n",
    "    \n",
    "    def __setCoordX(self, x):\n",
    "        if Point.__checkValue(x):\n",
    "            self.__x = x\n",
    "        else: raise ValueError('Invalid data frormat')\n",
    "        \n",
    "    def __delCoordX(self):\n",
    "        print('Deleting the property')\n",
    "        del self.__x\n",
    "        \n",
    "    coordX = property(__getCoordX, __setCoordX, __delCoordX)\n",
    "        \n",
    "pt = Point(1, 2)\n",
    "pt.coordX = 100  # write a value\n",
    "x = pt.coordX  # read a value\n",
    "print(x)\n",
    "del pt.coordX"
   ]
  },
  {
   "cell_type": "code",
   "execution_count": 19,
   "id": "36f47ee5-f62a-4d6c-b2e0-4a5c812c26a9",
   "metadata": {},
   "outputs": [
    {
     "name": "stdout",
     "output_type": "stream",
     "text": [
      "1\n",
      "calling __getCoordX\n",
      "100\n",
      "Deleting the property\n"
     ]
    }
   ],
   "source": [
    "class Point:\n",
    "    coordX = CoordValue()\n",
    "    coordY = CoordValue()\n",
    "    \n",
    "    def __init__(self, x=0, y=0):\n",
    "        self.__x = x\n",
    "        self.__y = y\n",
    "        \n",
    "    def __checkValue(x):\n",
    "        if isinstance(x, (int, float)):\n",
    "            return True\n",
    "        return False\n",
    "    \n",
    "    @property\n",
    "    def coordX(self):\n",
    "        print('calling __getCoordX')\n",
    "        return self.__x\n",
    "    \n",
    "    @coordX.setter\n",
    "    def coordX(self, x):\n",
    "        if Point.__checkValue(x):\n",
    "            self.__x = x\n",
    "        else: raise ValueError('Invalid data frormat')\n",
    "    @coordX.deleter\n",
    "    def coordX(self):\n",
    "        print('Deleting the property')\n",
    "        del self.__x\n",
    "        \n",
    "    #coordX = property(__getCoordX, __setCoordX, __delCoordX)\n",
    "        \n",
    "pt = Point(1, 2)\n",
    "print(pt._Point__x)\n",
    "pt.coordX = 100  # write a value\n",
    "x = pt.coordX  # read a value\n",
    "print(x)\n",
    "del pt.coordX"
   ]
  },
  {
   "cell_type": "markdown",
   "id": "dd50a2a5-32d1-4ba2-bcfe-33fbe978fab1",
   "metadata": {},
   "source": [
    "### Descriptors"
   ]
  },
  {
   "cell_type": "code",
   "execution_count": 22,
   "id": "9c585007-0f30-4851-82ae-8437d2072711",
   "metadata": {},
   "outputs": [
    {
     "name": "stdout",
     "output_type": "stream",
     "text": [
      "100\n",
      "100\n",
      "140728924441216\n",
      "140728924441216\n"
     ]
    },
    {
     "data": {
      "text/plain": [
       "(None, None)"
      ]
     },
     "execution_count": 22,
     "metadata": {},
     "output_type": "execute_result"
    }
   ],
   "source": [
    "# Descriptor Class \n",
    "class CoordValue:\n",
    "    def __get__(self, instance, owner):\n",
    "        return self.__value\n",
    "    \n",
    "    def __set__(self, instance, value):\n",
    "        self.__value = value\n",
    "        \n",
    "    def __delete__(self, obj):\n",
    "        del self.__value\n",
    "\n",
    "class Point:\n",
    "    coordX = CoordValue()\n",
    "    coordY = CoordValue()\n",
    "    \n",
    "    def __init__(self, x=0, y=0):\n",
    "        self.coordX = x\n",
    "        self.coordY = y\n",
    "      \n",
    "    \n",
    "        \n",
    "pt = Point(1, 2)\n",
    "pt.coordX = 100  # write a value\n",
    "x = pt.coordX  # read a value\n",
    "print(x)\n",
    "print(pt.coordX)\n",
    "print(id(pt.coordX)), print(id(Point.coordX))"
   ]
  },
  {
   "cell_type": "code",
   "execution_count": 25,
   "id": "f3b0fced-5f04-4ddf-8809-0e6b255b43ef",
   "metadata": {},
   "outputs": [
    {
     "name": "stdout",
     "output_type": "stream",
     "text": [
      "7\n",
      "7\n",
      "140728924438240\n",
      "140728924438240\n",
      "140728924438240\n"
     ]
    },
    {
     "data": {
      "text/plain": [
       "(None, None, None)"
      ]
     },
     "execution_count": 25,
     "metadata": {},
     "output_type": "execute_result"
    }
   ],
   "source": [
    "pt2 = Point(7,9)\n",
    "print(pt.coordX)\n",
    "print(pt2.coordX)\n",
    "print(id(pt.coordX)), print(id(Point.coordX)), print(id(pt2.coordX))"
   ]
  },
  {
   "cell_type": "code",
   "execution_count": 27,
   "id": "3528fbfc-90bd-4c66-b961-9ffd342f6277",
   "metadata": {},
   "outputs": [
    {
     "name": "stdout",
     "output_type": "stream",
     "text": [
      "100\n",
      "100\n",
      "100\n",
      "7\n",
      "140728924441216\n",
      "140728924438240\n"
     ]
    },
    {
     "data": {
      "text/plain": [
       "(None, None)"
      ]
     },
     "execution_count": 27,
     "metadata": {},
     "output_type": "execute_result"
    }
   ],
   "source": [
    "# Descriptor Class \n",
    "class CoordValue:\n",
    "    def __init__(self, name):\n",
    "        self.__name = name\n",
    "    \n",
    "    def __get__(self, instance, owner):\n",
    "        return instance.__dict__[self.__name]\n",
    "    \n",
    "    def __set__(self, instance, value):\n",
    "        instance.__dict__[self.__name] = value\n",
    "        \n",
    "    def __delete__(self, obj):\n",
    "        del self.__value\n",
    "\n",
    "class Point:\n",
    "    coordX = CoordValue('coordX')\n",
    "    coordY = CoordValue('coordY')\n",
    "    \n",
    "    def __init__(self, x=0, y=0):\n",
    "        self.coordX = x\n",
    "        self.coordY = y\n",
    "      \n",
    "    \n",
    "        \n",
    "pt = Point(1, 2)\n",
    "pt.coordX = 100  # write a value\n",
    "x = pt.coordX  # read a value\n",
    "print(x)\n",
    "print(pt.coordX)\n",
    "pt2 = Point(7,9)\n",
    "print(pt.coordX)\n",
    "print(pt2.coordX)\n",
    "print(id(pt.coordX)), print(id(pt2.coordX))"
   ]
  },
  {
   "cell_type": "markdown",
   "id": "f4b3d050-23fe-445a-af22-5dc397c90793",
   "metadata": {},
   "source": [
    "From version Python 3.6, __set_name__ has been added"
   ]
  },
  {
   "cell_type": "code",
   "execution_count": 29,
   "id": "47bdf16e-d6db-450d-8d92-de0cb0677b0f",
   "metadata": {},
   "outputs": [
    {
     "name": "stdout",
     "output_type": "stream",
     "text": [
      "coordX\n",
      "coordY\n",
      "100\n",
      "100\n",
      "100\n",
      "7\n",
      "140728924441216\n",
      "140728924438240\n"
     ]
    },
    {
     "data": {
      "text/plain": [
       "(None, None)"
      ]
     },
     "execution_count": 29,
     "metadata": {},
     "output_type": "execute_result"
    }
   ],
   "source": [
    "# Descriptor Class \n",
    "class CoordValue:\n",
    "    def __set_name__(self, owner, name):\n",
    "        print(name)\n",
    "        self.__name = name\n",
    "    \n",
    "    def __get__(self, instance, owner):\n",
    "        return instance.__dict__[self.__name]\n",
    "    \n",
    "    def __set__(self, instance, value):\n",
    "        instance.__dict__[self.__name] = value\n",
    "        \n",
    "    def __delete__(self, obj):\n",
    "        del self.__value\n",
    "\n",
    "class Point:\n",
    "    coordX = CoordValue()\n",
    "    coordY = CoordValue()\n",
    "    \n",
    "    def __init__(self, x=0, y=0):\n",
    "        self.coordX = x\n",
    "        self.coordY = y\n",
    "      \n",
    "    \n",
    "        \n",
    "pt = Point(1, 2)\n",
    "pt.coordX = 100  # write a value\n",
    "x = pt.coordX  # read a value\n",
    "print(x)\n",
    "print(pt.coordX)\n",
    "pt2 = Point(7,9)\n",
    "print(pt.coordX)\n",
    "print(pt2.coordX)\n",
    "print(id(pt.coordX)), print(id(pt2.coordX))"
   ]
  },
  {
   "cell_type": "markdown",
   "id": "cc1cfa6f-28eb-4aed-a642-2c9c856efa49",
   "metadata": {
    "tags": []
   },
   "source": [
    "### Test assignment"
   ]
  },
  {
   "cell_type": "markdown",
   "id": "27a80821-4393-4bf8-a94c-065fcaade10e",
   "metadata": {},
   "source": [
    "1. Объявить класс Calendar для хранения даты: деньБ месяц, год. Определить свойства для записи и считывания этой информации из этого класса. (Дополнение: используя __slots__ разрешить использовать только строго определенные локальные свойства в экземплярах класса)."
   ]
  },
  {
   "cell_type": "code",
   "execution_count": null,
   "id": "daf79a95-33d4-469f-8197-26e71ed5d338",
   "metadata": {},
   "outputs": [],
   "source": []
  },
  {
   "cell_type": "markdown",
   "id": "32d91fc0-c957-4005-9295-e96fdb8b5476",
   "metadata": {},
   "source": [
    "2. Объявить класс Rectangle, хранящий координаты верхней левой и правой нижней точек. Создать дескрипторы для записи и считывания этих значений в классе (атрибуты с данными координат должны быть приватными)."
   ]
  },
  {
   "cell_type": "code",
   "execution_count": null,
   "id": "171c2f00-086c-4a9b-bf53-3d24bb178caf",
   "metadata": {},
   "outputs": [],
   "source": []
  },
  {
   "cell_type": "markdown",
   "id": "859a885f-d4d5-42eb-8998-0afad3446221",
   "metadata": {},
   "source": [
    "## 5. Static methods and properties of a class"
   ]
  },
  {
   "cell_type": "code",
   "execution_count": 37,
   "id": "856d80b4-debd-46b2-bc9a-99bb569d3e36",
   "metadata": {},
   "outputs": [
    {
     "name": "stdout",
     "output_type": "stream",
     "text": [
      "10 10\n",
      "5 12\n",
      "0\n"
     ]
    }
   ],
   "source": [
    "class Point:\n",
    "    count = 0\n",
    "    \n",
    "    def __init__(self, x = 0, y = 0):\n",
    "        self.coordX = x\n",
    "        self.coordY = y\n",
    "    \n",
    "pt = Point()\n",
    "pt2 = Point()\n",
    "Point.count = 10\n",
    "print(pt.count, pt2.count)\n",
    "pt.count = 5\n",
    "Point.count = 12\n",
    "print(pt.count, pt2.count)\n",
    "print(pt.coordX) "
   ]
  },
  {
   "cell_type": "code",
   "execution_count": 49,
   "id": "2857afa6-5c48-47b9-af6f-bc7f70971a23",
   "metadata": {},
   "outputs": [
    {
     "name": "stdout",
     "output_type": "stream",
     "text": [
      "2\n"
     ]
    }
   ],
   "source": [
    "class Point:\n",
    "    __count = 0\n",
    "    \n",
    "    def __init__(self, x = 0, y = 0):\n",
    "        Point.__count += 1\n",
    "        self.coordX = x\n",
    "        self.coordY = y\n",
    "    \n",
    "    @staticmethod\n",
    "    def getCount():\n",
    "        return Point.__count\n",
    "    \n",
    "pt = Point()\n",
    "pt2 = Point()\n",
    "print(pt.getCount())"
   ]
  },
  {
   "cell_type": "code",
   "execution_count": 53,
   "id": "80d23f4f-6f54-476c-9197-b62900039b52",
   "metadata": {},
   "outputs": [
    {
     "name": "stdout",
     "output_type": "stream",
     "text": [
      "The instance has already been created\n",
      "The instance has already been created\n",
      "140728923969552\n",
      "140728923969552\n",
      "140728923969552\n"
     ]
    }
   ],
   "source": [
    "class Point:\n",
    "    __count = 0\n",
    "    __instance = None\n",
    "    \n",
    "    def __new__(cls, *args, **kwargs):\n",
    "        if not isinstance(cls.__instance, cls):\n",
    "            cls.__instance = super(Point, cls).__new__(cls)\n",
    "        else:\n",
    "            print('The instance has already been created')\n",
    "    \n",
    "    def __init__(self, x = 0, y = 0):\n",
    "        Point.__count += 1\n",
    "        self.coordX = x\n",
    "        self.coordY = y\n",
    "    \n",
    "    @staticmethod\n",
    "    def getCount():\n",
    "        return Point.__count\n",
    "    \n",
    "pt = Point()\n",
    "pt2 = Point()\n",
    "pt3 = Point()\n",
    "print(id(pt), id(pt2), id(pt3), sep='\\n')"
   ]
  },
  {
   "cell_type": "markdown",
   "id": "c58f6298-4e1e-4070-9a03-fc3b4ffcdef7",
   "metadata": {},
   "source": [
    "### Test assignment"
   ]
  },
  {
   "cell_type": "markdown",
   "id": "c57f2453-3289-46df-b142-d8551040993f",
   "metadata": {},
   "source": [
    "1. Объявить класс Rectangle (прямоугольник), в котором имеется статический метод, вычисляющий площадь прямоугольника. Этот метод принимает два параметра (ширину и длину), вызывается в конструкторе для вычисления площади конкретного прямоугольника и результат присваивается локальному свойству создаваемого экземпляра класса. "
   ]
  },
  {
   "cell_type": "code",
   "execution_count": null,
   "id": "59b409ac-4e5d-4ba3-8336-4ebdebddb09b",
   "metadata": {},
   "outputs": [],
   "source": []
  },
  {
   "cell_type": "markdown",
   "id": "d141bc24-fe9e-45f7-8760-7d4320cc58a9",
   "metadata": {},
   "source": [
    "2. Создать класс Dog (собака), в каждом его экземпляре создать несколько локальных свойств (например: имя, возраст, порода) и сделать так, чтобы можно было создать не более пяти экземпляров этого класса."
   ]
  },
  {
   "cell_type": "code",
   "execution_count": null,
   "id": "17fdfbd5-60d8-46be-9577-319fad452702",
   "metadata": {},
   "outputs": [],
   "source": []
  },
  {
   "cell_type": "markdown",
   "id": "e3a43c0f-9e32-4a6e-9508-c6a2ac5628cd",
   "metadata": {},
   "source": [
    "## 6. Simple class inheritence."
   ]
  },
  {
   "cell_type": "code",
   "execution_count": null,
   "id": "a054404e-98e6-4779-954b-3fb5c4a3ac56",
   "metadata": {},
   "outputs": [],
   "source": []
  }
 ],
 "metadata": {
  "kernelspec": {
   "display_name": "Python 3 (ipykernel)",
   "language": "python",
   "name": "python3"
  },
  "language_info": {
   "codemirror_mode": {
    "name": "ipython",
    "version": 3
   },
   "file_extension": ".py",
   "mimetype": "text/x-python",
   "name": "python",
   "nbconvert_exporter": "python",
   "pygments_lexer": "ipython3",
   "version": "3.7.1"
  }
 },
 "nbformat": 4,
 "nbformat_minor": 5
}
