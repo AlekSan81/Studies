{
 "cells": [
  {
   "cell_type": "markdown",
   "id": "2400fc00-30d1-451b-9924-15e6eb370b5f",
   "metadata": {},
   "source": [
    "## Methods, self parameter, constructor and destructor"
   ]
  },
  {
   "cell_type": "code",
   "execution_count": 76,
   "id": "07bc9b22-2bef-40af-bff4-960f6f9f81c0",
   "metadata": {},
   "outputs": [
    {
     "name": "stdout",
     "output_type": "stream",
     "text": [
      "['__class__', '__del__', '__delattr__', '__dict__', '__dir__', '__doc__', '__eq__', '__format__', '__ge__', '__getattribute__', '__gt__', '__hash__', '__init__', '__init_subclass__', '__le__', '__lt__', '__module__', '__ne__', '__new__', '__reduce__', '__reduce_ex__', '__repr__', '__setattr__', '__sizeof__', '__str__', '__subclasshook__', '__weakref__', 'setCoords', 'x', 'y']\n",
      "Point\n",
      "Deleting the instance: <__main__.Point object at 0x00000246D8EB8EF0>\n",
      "{'z': 9, 'q': 345, 'a': 54, 'b': 24}\n",
      "1\n",
      "<__main__.Point object at 0x00000246D9074C18>\n"
     ]
    },
    {
     "data": {
      "text/plain": [
       "1"
      ]
     },
     "execution_count": 76,
     "metadata": {},
     "output_type": "execute_result"
    }
   ],
   "source": [
    "class Point:\n",
    "    '''\n",
    "    Creating a test class.\n",
    "    '''\n",
    "    x = 1\n",
    "    y = 3\n",
    "    \n",
    "    def __init__(self, z=9):\n",
    "        self.z = z\n",
    "        \n",
    "    def __del__(self):\n",
    "        print('Deleting the instance: ' + self.__str__())\n",
    "    \n",
    "    def setCoords(self, x, y):\n",
    "        self.a = x\n",
    "        self.b = y\n",
    "    \n",
    "print(dir(Point))\n",
    "print(Point.__name__)\n",
    "    \n",
    "pt = Point()\n",
    "pt.q = 345\n",
    "pt.setCoords(54, 24)\n",
    "print(pt.__dict__)\n",
    "print(pt.x)\n",
    "print(pt.__str__())\n",
    "pt.x"
   ]
  },
  {
   "cell_type": "markdown",
   "id": "891ef904-b3cc-491d-9f04-09439277c22d",
   "metadata": {},
   "source": [
    "Создать класс, который хранит координаты в виде списка. Прописать у него конструктор для создания экземпляров с локальными координатами. Также добавьте методы, позволяющие изменять координаты и получать их (в виде кортежа)."
   ]
  },
  {
   "cell_type": "code",
   "execution_count": 5,
   "id": "12220a16-f0d4-468d-adaf-615e95e7db40",
   "metadata": {},
   "outputs": [
    {
     "name": "stdout",
     "output_type": "stream",
     "text": [
      "<class 'tuple'>\n"
     ]
    },
    {
     "data": {
      "text/plain": [
       "(43, 6, 23)"
      ]
     },
     "execution_count": 5,
     "metadata": {},
     "output_type": "execute_result"
    }
   ],
   "source": [
    "class P3:\n",
    "    \n",
    "    def __init__(self, x=0, y=0, z=0):\n",
    "        self.x = x\n",
    "        self.y = y\n",
    "        self.z = z\n",
    "        \n",
    "    def setCoords(self, x, y, z):\n",
    "        self.x = x\n",
    "        self.y = y\n",
    "        self.z = z\n",
    "        \n",
    "    def getCoords(self):\n",
    "        temp = (self.x, self.y, self.z)\n",
    "        print(type(temp))\n",
    "        return temp\n",
    "        \n",
    "pt3 = P3(43, 6,23)\n",
    "pt3.getCoords()"
   ]
  },
  {
   "cell_type": "markdown",
   "id": "e2f21e4f-9997-4fc2-ada7-ea7eebf72fec",
   "metadata": {},
   "source": [
    "Обновить класс Point с конструктором, который бы позволял создавать экземпляр на основе другого, уже существующего. Если аргументы в конструктор не передаются, то создается объект с локальными атрибутами по умолчанию."
   ]
  },
  {
   "cell_type": "code",
   "execution_count": null,
   "id": "eb084c69-c23d-4b65-a609-26e4fdd4f34a",
   "metadata": {},
   "outputs": [],
   "source": [
    "class Point():\n",
    "    \n",
    "    def __init__(self, obj=None):\n",
    "        if obj:\n",
    "            self.x = obj.x\n",
    "            self.y = obj.y\n",
    "        else:\n",
    "            self.x = 0\n",
    "            self.y = 0"
   ]
  },
  {
   "cell_type": "markdown",
   "id": "2ca090b8-97e1-44d4-9c17-8bc4114c25e2",
   "metadata": {},
   "source": [
    "Написать программу, в которой пользователь вводит координаты x, y  с клавиатуры, создается соответствующий экземпляр и он сохраняется в списке. Количество вводимых объектов N=5. Затем, вывести их атрибуты."
   ]
  },
  {
   "cell_type": "code",
   "execution_count": 10,
   "id": "66329ba4-c303-4be3-a565-743f011a9e46",
   "metadata": {},
   "outputs": [
    {
     "name": "stdin",
     "output_type": "stream",
     "text": [
      "Введите x:  1\n",
      "Введите y:  2\n",
      "Введите x:  3\n",
      "Введите y:  4\n",
      "Введите x:  5\n",
      "Введите y:  6\n",
      "Введите x:  7\n",
      "Введите y:  8\n",
      "Введите x:  9\n",
      "Введите y:  10\n"
     ]
    },
    {
     "name": "stdout",
     "output_type": "stream",
     "text": [
      "{'x': 1, 'y': 2}\n",
      "{'x': 3, 'y': 4}\n",
      "{'x': 5, 'y': 6}\n",
      "{'x': 7, 'y': 8}\n",
      "{'x': 9, 'y': 10}\n"
     ]
    }
   ],
   "source": [
    "class Point():\n",
    "    \n",
    "    def __init__(self, x=0, y=0):\n",
    "        self.x = x\n",
    "        self.y = y\n",
    "\n",
    "lst = []        \n",
    "        \n",
    "for i in range(5):\n",
    "    x, y = int(input('Введите x: ')), int(input('Введите y: '))\n",
    "    inst = Point(x, y)  # inst -> instance\n",
    "    lst.append(inst)\n",
    "    \n",
    "for inst in lst:\n",
    "    print(inst.__dict__)"
   ]
  },
  {
   "cell_type": "markdown",
   "id": "23746106-9b53-4161-bee8-529799150560",
   "metadata": {},
   "source": [
    "## Incapsulation: public, private, protected. Getters and Setters."
   ]
  },
  {
   "cell_type": "code",
   "execution_count": 13,
   "id": "aadfd5c6-6c34-43c4-b602-5a090d5fcb89",
   "metadata": {},
   "outputs": [
    {
     "name": "stdout",
     "output_type": "stream",
     "text": [
      "1 2\n",
      "100 abc\n"
     ]
    }
   ],
   "source": [
    "class Point:\n",
    "    def __init__(self, x=0, y=0):\n",
    "        self.x = x; self.y = y\n",
    "        \n",
    "pt = Point(1, 2)\n",
    "print(pt.x, pt.y)\n",
    "pt.x = 100\n",
    "pt.y = 'abc'\n",
    "print(pt.x, pt.y)"
   ]
  },
  {
   "cell_type": "markdown",
   "id": "6a343e0d-f5f0-4faa-b622-4cdff3d38a12",
   "metadata": {},
   "source": [
    "x - public  \n",
    "\\_x - protected  \n",
    "__x - private"
   ]
  },
  {
   "cell_type": "code",
   "execution_count": 23,
   "id": "9a31279f-d54b-4f26-b53a-5e87b36e1e91",
   "metadata": {},
   "outputs": [
    {
     "name": "stdout",
     "output_type": "stream",
     "text": [
      "(1, 2)\n",
      "Coordinates have to be numeric\n",
      "(1, 2)\n",
      "(33, 44)\n",
      "{'_Point__x': 33, '_Point__y': 44}\n"
     ]
    }
   ],
   "source": [
    "class Point:\n",
    "    def __init__(self, x=0, y=0):\n",
    "        self.__x = x; self.__y = y\n",
    "    \n",
    "    def __checkValue(x):\n",
    "    \n",
    "    # setter\n",
    "    def setCoords(self, x, y):\n",
    "        if (isinstance(x, int) or isinstance(x, float)) and \\\n",
    "        (isinstance(y, int) or isinstance(y, float)):\n",
    "            self.__x = x\n",
    "            self.__y = y\n",
    "        else:\n",
    "            print('Coordinates have to be numeric')\n",
    "        \n",
    "    # getter\n",
    "    def getCoords(self):\n",
    "        return self.__x, self.__y\n",
    "        \n",
    "pt = Point(1, 2)\n",
    "# print(pt.x) and print(pt.__x) doesn't work\n",
    "\n",
    "# setter and getter\n",
    "print(pt.getCoords())\n",
    "pt.setCoords(33, 'c')\n",
    "print(pt.getCoords())\n",
    "pt.setCoords(33, 44)\n",
    "print(pt.getCoords())\n",
    "print(pt.__dict__)"
   ]
  },
  {
   "cell_type": "code",
   "execution_count": 30,
   "id": "a6cf8c4e-dfd9-4813-801d-0a992292490b",
   "metadata": {},
   "outputs": [
    {
     "name": "stdout",
     "output_type": "stream",
     "text": [
      "('Private attribute', 2)\n",
      "Coordinates have to be numeric\n",
      "('Private attribute', 2)\n",
      "('Private attribute', 44)\n",
      "{'_Point__x': 33, '_Point__y': 44}\n",
      "Private attribute 44\n"
     ]
    }
   ],
   "source": [
    "class Point:\n",
    "    def __init__(self, x=0, y=0):\n",
    "        self.__x = x; self.__y = y\n",
    "    \n",
    "    def __checkValue(x):\n",
    "        if (isinstance(x, (int, float))):\n",
    "            return True\n",
    "        return False\n",
    "        \n",
    "    # setter\n",
    "    def setCoords(self, x, y):\n",
    "        if Point.__checkValue(x) and Point.__checkValue(y):\n",
    "            self.__x = x\n",
    "            self.__y = y\n",
    "        else:\n",
    "            print('Coordinates have to be numeric')\n",
    "        \n",
    "    # getter\n",
    "    def getCoords(self):\n",
    "        return self.__x, self.__y\n",
    "    \n",
    "    def __getattribute__(self, item):\n",
    "        if item == '_Point__x':\n",
    "            return 'Private attribute'\n",
    "        else:\n",
    "            return object.__getattribute__(self, item)\n",
    "        \n",
    "pt = Point(1, 2)\n",
    "# print(pt.x) and print(pt.__x) doesn't work\n",
    "\n",
    "# setter and getter\n",
    "print(pt.getCoords())\n",
    "pt.setCoords(33, 'c')\n",
    "print(pt.getCoords())\n",
    "pt.setCoords(33, 44)\n",
    "print(pt.getCoords())\n",
    "\n",
    "print(pt.__dict__)\n",
    "print(pt._Point__x, pt._Point__y)"
   ]
  }
 ],
 "metadata": {
  "kernelspec": {
   "display_name": "Python 3 (ipykernel)",
   "language": "python",
   "name": "python3"
  },
  "language_info": {
   "codemirror_mode": {
    "name": "ipython",
    "version": 3
   },
   "file_extension": ".py",
   "mimetype": "text/x-python",
   "name": "python",
   "nbconvert_exporter": "python",
   "pygments_lexer": "ipython3",
   "version": "3.7.1"
  }
 },
 "nbformat": 4,
 "nbformat_minor": 5
}
