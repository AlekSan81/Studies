{
 "cells": [
  {
   "cell_type": "markdown",
   "id": "f82d40ce-3649-4ff2-8013-0795c5fffcdb",
   "metadata": {},
   "source": [
    "# Graph Theory"
   ]
  },
  {
   "cell_type": "markdown",
   "id": "68e9e73b-b593-477e-aa8f-6583e167296d",
   "metadata": {},
   "source": [
    "## Graph Theory and Graphs in Python\n",
    "https://python-course.eu/applications-python/graphs-python.php"
   ]
  },
  {
   "cell_type": "markdown",
   "id": "e1ba5498-d90f-4b4c-8b1d-dc0333c5c065",
   "metadata": {},
   "source": []
  },
  {
   "cell_type": "code",
   "execution_count": null,
   "id": "e3a1d118-e87a-4bf1-8b77-2cec7426881c",
   "metadata": {},
   "outputs": [],
   "source": [
    "graph = {\n",
    "    'a': {'c'},\n",
    "    \n",
    "}"
   ]
  },
  {
   "cell_type": "markdown",
   "id": "2961c861-a999-4d33-84ff-a001bd78c961",
   "metadata": {},
   "source": [
    "## 3 Ways To Represent Graphs in Python | Graph Theory With Python #2\n",
    "https://www.youtube.com/watch?v=ukFNELi_U88  \n",
    "https://www.youtube.com/watch?v=7MQ19mADAV8  \n",
    "https://www.youtube.com/watch?v=flwcAf1_1RU  "
   ]
  },
  {
   "cell_type": "code",
   "execution_count": null,
   "id": "e74e8333-ee04-4b1f-8bed-fa7137e0bf36",
   "metadata": {},
   "outputs": [],
   "source": []
  }
 ],
 "metadata": {
  "kernelspec": {
   "display_name": "Python 3 (ipykernel)",
   "language": "python",
   "name": "python3"
  },
  "language_info": {
   "codemirror_mode": {
    "name": "ipython",
    "version": 3
   },
   "file_extension": ".py",
   "mimetype": "text/x-python",
   "name": "python",
   "nbconvert_exporter": "python",
   "pygments_lexer": "ipython3",
   "version": "3.8.12"
  }
 },
 "nbformat": 4,
 "nbformat_minor": 5
}
